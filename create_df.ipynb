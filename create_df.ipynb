{
 "cells": [
  {
   "cell_type": "code",
   "execution_count": 1,
   "id": "ee856b6c",
   "metadata": {},
   "outputs": [],
   "source": [
    "from pyspark.sql import SparkSession\n",
    "import utils"
   ]
  },
  {
   "cell_type": "code",
   "execution_count": 2,
   "id": "b513e860",
   "metadata": {},
   "outputs": [
    {
     "name": "stderr",
     "output_type": "stream",
     "text": [
      "22/01/18 19:58:31 WARN Utils: Your hostname, Furkans-MacBook-Air.local resolves to a loopback address: 127.0.0.1; using 192.168.1.33 instead (on interface en0)\n",
      "22/01/18 19:58:31 WARN Utils: Set SPARK_LOCAL_IP if you need to bind to another address\n",
      "Using Spark's default log4j profile: org/apache/spark/log4j-defaults.properties\n",
      "Setting default log level to \"WARN\".\n",
      "To adjust logging level use sc.setLogLevel(newLevel). For SparkR, use setLogLevel(newLevel).\n",
      "22/01/18 19:58:31 WARN NativeCodeLoader: Unable to load native-hadoop library for your platform... using builtin-java classes where applicable\n"
     ]
    }
   ],
   "source": [
    "# start spark session\n",
    "spark = SparkSession.builder.master(\"local[4]\").appName(\"Restaurant Recommender\").getOrCreate()"
   ]
  },
  {
   "cell_type": "code",
   "execution_count": 3,
   "id": "c03e9249",
   "metadata": {},
   "outputs": [],
   "source": [
    "# get dataframes from csv files\n",
    "ratings_df = spark.read.option(\"header\", \"true\").csv(\"raw_data/rating_final.csv\")\n",
    "user_cuisine_df = spark.read.option(\"header\", \"true\").csv(\"raw_data/usercuisine.csv\")\n",
    "user_payment_df = spark.read.option(\"header\", \"true\").csv(\"raw_data/userpayment.csv\")\n",
    "user_profile_df = spark.read.option(\"header\", \"true\").csv(\"raw_data/userprofile.csv\")"
   ]
  },
  {
   "cell_type": "code",
   "execution_count": 4,
   "id": "07ca4c5f",
   "metadata": {},
   "outputs": [],
   "source": [
    "# get selected columns from dataframes\n",
    "ratings_df = ratings_df.selectExpr(\"userID as userId\", \"placeID as placeId\", \"rating as rating\")\n",
    "user_cuisine_df = user_cuisine_df.selectExpr(\"userID as userId\", \"Rcuisine as cuisine\")\n",
    "user_payment_df = user_payment_df.selectExpr(\"userID as userId\", \"Upayment as payment\")\n",
    "user_profile_df = user_profile_df.selectExpr(\"userID as userId\", \"smoker as smoker\", \"ambience as ambience\", \"transport as transport\", \"marital_status as marital_status\", \"activity as job\", \"budget as budget\")"
   ]
  },
  {
   "cell_type": "code",
   "execution_count": 5,
   "id": "6250e1b7",
   "metadata": {},
   "outputs": [],
   "source": [
    "# merged data frames into one\n",
    "merged_df = ratings_df.join(user_cuisine_df, [\"userId\"])\n",
    "merged_df = merged_df.join(user_payment_df, [\"userId\"])\n",
    "merged_df = merged_df.join(user_profile_df, [\"userId\"])"
   ]
  },
  {
   "cell_type": "code",
   "execution_count": 6,
   "id": "e6464d9b",
   "metadata": {},
   "outputs": [
    {
     "data": {
      "text/plain": [
       "133"
      ]
     },
     "execution_count": 6,
     "metadata": {},
     "output_type": "execute_result"
    }
   ],
   "source": [
    "# unique user id list\n",
    "unique_userid_list = []\n",
    "unique_userid_list = merged_df.select('userId').distinct().collect()\n",
    "len(unique_userid_list)"
   ]
  },
  {
   "cell_type": "code",
   "execution_count": 7,
   "id": "e4e4f6fd",
   "metadata": {},
   "outputs": [
    {
     "name": "stdout",
     "output_type": "stream",
     "text": [
      "+------+-----+\n",
      "|userId|count|\n",
      "+------+-----+\n",
      "| U1012|   10|\n",
      "| U1066|   10|\n",
      "| U1042|    5|\n",
      "| U1091|   18|\n",
      "| U1019|    9|\n",
      "| U1096|   11|\n",
      "| U1014|   22|\n",
      "| U1013|   20|\n",
      "| U1125|   11|\n",
      "| U1116|   33|\n",
      "| U1105|    8|\n",
      "| U1035|   12|\n",
      "| U1069|   18|\n",
      "| U1102|    5|\n",
      "| U1101|  150|\n",
      "| U1073|   11|\n",
      "| U1049|    9|\n",
      "| U1050|    7|\n",
      "| U1134|   16|\n",
      "| U1126|   10|\n",
      "| U1007|    9|\n",
      "| U1018|   10|\n",
      "| U1067|    6|\n",
      "| U1072|    8|\n",
      "| U1031|    6|\n",
      "| U1074|    6|\n",
      "| U1059|   10|\n",
      "| U1058|   10|\n",
      "| U1055|   10|\n",
      "| U1083|    9|\n",
      "| U1033|   11|\n",
      "| U1138|    3|\n",
      "| U1061|   36|\n",
      "| U1015|    8|\n",
      "| U1131|    6|\n",
      "| U1077|   15|\n",
      "| U1108|  540|\n",
      "| U1004|  144|\n",
      "| U1029|   10|\n",
      "| U1133|   18|\n",
      "| U1001|    9|\n",
      "| U1076|   15|\n",
      "| U1027|   11|\n",
      "| U1030|    8|\n",
      "| U1021|   12|\n",
      "| U1041|   24|\n",
      "| U1127|    4|\n",
      "| U1023|    4|\n",
      "| U1047|    3|\n",
      "| U1084|   10|\n",
      "| U1062|   18|\n",
      "| U1099|   22|\n",
      "| U1060|   52|\n",
      "| U1036|   12|\n",
      "| U1114|   11|\n",
      "| U1094|    8|\n",
      "| U1020|    8|\n",
      "| U1056|   10|\n",
      "| U1115|    8|\n",
      "| U1097|   13|\n",
      "| U1017|    6|\n",
      "| U1002|   10|\n",
      "| U1006|   11|\n",
      "| U1085|   10|\n",
      "| U1068|    8|\n",
      "| U1064|    5|\n",
      "| U1120|    9|\n",
      "| U1034|    6|\n",
      "| U1044|   20|\n",
      "| U1028|    7|\n",
      "| U1090|   10|\n",
      "| U1051|    8|\n",
      "| U1005|    9|\n",
      "| U1136|   10|\n",
      "| U1052|    4|\n",
      "| U1129|    4|\n",
      "| U1109|   10|\n",
      "| U1107|    6|\n",
      "| U1080|    6|\n",
      "| U1092|    6|\n",
      "| U1026|   10|\n",
      "| U1079|    4|\n",
      "| U1113|   16|\n",
      "| U1010|    8|\n",
      "| U1039|    3|\n",
      "| U1048|    7|\n",
      "| U1089|   14|\n",
      "| U1117|   12|\n",
      "| U1011|    3|\n",
      "| U1132|   10|\n",
      "| U1008|   90|\n",
      "| U1032|   10|\n",
      "| U1121|    8|\n",
      "| U1110|    4|\n",
      "| U1065|    5|\n",
      "| U1086|   27|\n",
      "| U1075|   12|\n",
      "| U1016|  182|\n",
      "| U1128|   44|\n",
      "| U1087|    8|\n",
      "| U1043|    5|\n",
      "| U1137|   14|\n",
      "| U1037|   11|\n",
      "| U1040|    4|\n",
      "| U1054|   11|\n",
      "| U1098|   12|\n",
      "| U1104|   24|\n",
      "| U1057|   22|\n",
      "| U1003|   13|\n",
      "| U1111|   11|\n",
      "| U1053|   13|\n",
      "| U1119|    5|\n",
      "| U1081|   11|\n",
      "| U1038|    5|\n",
      "| U1009|   77|\n",
      "| U1078|   21|\n",
      "| U1093|   16|\n",
      "| U1106|   36|\n",
      "| U1071|   13|\n",
      "| U1095|   10|\n",
      "| U1112|   13|\n",
      "| U1022|   14|\n",
      "| U1046|    9|\n",
      "| U1124|   10|\n",
      "| U1135| 1442|\n",
      "| U1063|    5|\n",
      "| U1070|    3|\n",
      "| U1045|   40|\n",
      "| U1103|   16|\n",
      "| U1082|    9|\n",
      "| U1123|    8|\n",
      "| U1100|    6|\n",
      "| U1118|    7|\n",
      "+------+-----+\n",
      "\n"
     ]
    }
   ],
   "source": [
    "merged_df.groupBy('userId').count().show(1000)"
   ]
  },
  {
   "cell_type": "code",
   "execution_count": 8,
   "id": "5ad999ac",
   "metadata": {},
   "outputs": [
    {
     "data": {
      "text/plain": [
       "130"
      ]
     },
     "execution_count": 8,
     "metadata": {},
     "output_type": "execute_result"
    }
   ],
   "source": [
    "# unique place id list\n",
    "unique_placeid_list = []\n",
    "unique_placeid_list = merged_df.select('placeId').distinct().collect()\n",
    "len(unique_placeid_list)"
   ]
  },
  {
   "cell_type": "code",
   "execution_count": 9,
   "id": "aaa7a6ae",
   "metadata": {},
   "outputs": [
    {
     "name": "stdout",
     "output_type": "stream",
     "text": [
      "+-------+-----+\n",
      "|placeId|count|\n",
      "+-------+-----+\n",
      "| 132834|  157|\n",
      "| 132626|    4|\n",
      "| 135058|  182|\n",
      "| 135042|  139|\n",
      "| 132767|   10|\n",
      "| 135063|  118|\n",
      "| 135026|   12|\n",
      "| 132862|   39|\n",
      "| 132884|    7|\n",
      "| 135035|    5|\n",
      "| 135088|   13|\n",
      "| 135062|   54|\n",
      "| 135021|   14|\n",
      "| 135016|    5|\n",
      "| 135072|    9|\n",
      "| 135076|   16|\n",
      "| 135051|   42|\n",
      "| 132754|   20|\n",
      "| 135054|   18|\n",
      "| 132954|   31|\n",
      "| 135050|    9|\n",
      "| 132846|   14|\n",
      "| 135044|    4|\n",
      "| 135070|   10|\n",
      "| 132717|   15|\n",
      "| 132560|    4|\n",
      "| 135069|   22|\n",
      "| 135018|    7|\n",
      "| 135034|    6|\n",
      "| 135045|  131|\n",
      "| 132885|    8|\n",
      "| 135011|    6|\n",
      "| 135060|  175|\n",
      "| 135013|    6|\n",
      "| 135052|  170|\n",
      "| 132584|    8|\n",
      "| 135001|   13|\n",
      "| 132561|    4|\n",
      "| 132613|    7|\n",
      "| 132668|    7|\n",
      "| 132866|   13|\n",
      "| 135108|   20|\n",
      "| 135019|   10|\n",
      "| 132858|   15|\n",
      "| 132660|    6|\n",
      "| 132706|    4|\n",
      "| 135028|  186|\n",
      "| 135000|    7|\n",
      "| 132830|   11|\n",
      "| 135038|   51|\n",
      "| 134996|   14|\n",
      "| 135047|   13|\n",
      "| 135048|    7|\n",
      "| 132861|    8|\n",
      "| 132665|    7|\n",
      "| 132564|   16|\n",
      "| 132583|    8|\n",
      "| 132925|    8|\n",
      "| 135027|   27|\n",
      "| 134976|    6|\n",
      "| 135053|   11|\n",
      "| 135043|   12|\n",
      "| 135039|   29|\n",
      "| 135066|   27|\n",
      "| 132715|    7|\n",
      "| 132847|    6|\n",
      "| 134986|   14|\n",
      "| 134992|    8|\n",
      "| 135046|   67|\n",
      "| 135049|    5|\n",
      "| 132955|   23|\n",
      "| 132594|    5|\n",
      "| 132572|   71|\n",
      "| 135079|   28|\n",
      "| 132958|   23|\n",
      "| 135025|   18|\n",
      "| 135030|   15|\n",
      "| 135104|    8|\n",
      "| 135065|    8|\n",
      "| 135064|   23|\n",
      "| 135109|    9|\n",
      "| 135074|   57|\n",
      "| 132723|   66|\n",
      "| 132870|    5|\n",
      "| 135071|    7|\n",
      "| 135080|    9|\n",
      "| 132654|    4|\n",
      "| 132854|   16|\n",
      "| 132877|    3|\n",
      "| 135057|   16|\n",
      "| 132630|    7|\n",
      "| 132740|   23|\n",
      "| 135086|   65|\n",
      "| 132667|    5|\n",
      "| 132733|   24|\n",
      "| 135055|    7|\n",
      "| 132608|    6|\n",
      "| 135085|  217|\n",
      "| 134987|    8|\n",
      "| 132875|   13|\n",
      "| 132872|   16|\n",
      "| 135082|   10|\n",
      "| 132851|   17|\n",
      "| 135081|   13|\n",
      "| 132922|    8|\n",
      "| 132766|    5|\n",
      "| 135032|  231|\n",
      "| 134999|    8|\n",
      "| 132937|    6|\n",
      "| 132755|    5|\n",
      "| 135059|   17|\n",
      "| 132663|    8|\n",
      "| 132951|   16|\n",
      "| 134975|    5|\n",
      "| 135106|  158|\n",
      "| 135041|  141|\n",
      "| 132856|  149|\n",
      "| 135073|   19|\n",
      "| 132825|  150|\n",
      "| 132773|    7|\n",
      "| 132732|    9|\n",
      "| 134983|   11|\n",
      "| 132845|    6|\n",
      "| 132921|   24|\n",
      "| 132869|   15|\n",
      "| 132768|   19|\n",
      "| 132609|    5|\n",
      "| 135075|   70|\n",
      "| 135040|    4|\n",
      "| 135033|    5|\n",
      "+-------+-----+\n",
      "\n"
     ]
    }
   ],
   "source": [
    "merged_df.groupBy('placeId').count().show(1000)"
   ]
  },
  {
   "cell_type": "code",
   "execution_count": 10,
   "id": "217cc9c3",
   "metadata": {},
   "outputs": [
    {
     "data": {
      "text/plain": [
       "103"
      ]
     },
     "execution_count": 10,
     "metadata": {},
     "output_type": "execute_result"
    }
   ],
   "source": [
    "# unique cuisine types list\n",
    "unique_cuisine_list = []\n",
    "unique_cuisine_list = merged_df.select('cuisine').distinct().collect()\n",
    "len(unique_cuisine_list)"
   ]
  },
  {
   "cell_type": "code",
   "execution_count": 11,
   "id": "054308d0",
   "metadata": {},
   "outputs": [
    {
     "name": "stdout",
     "output_type": "stream",
     "text": [
      "+--------------------+-----+\n",
      "|             cuisine|count|\n",
      "+--------------------+-----+\n",
      "|       International|   14|\n",
      "|           Cafeteria|  113|\n",
      "|             Mexican|  999|\n",
      "|        Cajun-Creole|   14|\n",
      "|              Bakery|   34|\n",
      "|                 Bar|   33|\n",
      "|             Turkish|   26|\n",
      "|        Scandinavian|   14|\n",
      "|             Tibetan|   14|\n",
      "|       North_African|   14|\n",
      "|            Armenian|   14|\n",
      "|             Dim_Sum|   14|\n",
      "|      Middle_Eastern|   24|\n",
      "|         Pacific_Rim|   14|\n",
      "|             Persian|   14|\n",
      "|   Dessert-Ice_Cream|   44|\n",
      "|           Ethiopian|   14|\n",
      "|               Swiss|   14|\n",
      "|                Thai|   14|\n",
      "|              Fusion|   27|\n",
      "|               Sushi|   50|\n",
      "|            Southern|   14|\n",
      "|             Chinese|   71|\n",
      "|          Indonesian|   14|\n",
      "|             African|   14|\n",
      "|           Mongolian|   24|\n",
      "|     Southeast_Asian|   14|\n",
      "|               Tapas|   14|\n",
      "|            Hot_Dogs|   78|\n",
      "|             Chilean|   14|\n",
      "|               Irish|   14|\n",
      "|           Fast_Food|   70|\n",
      "|              Polish|   27|\n",
      "|             British|   14|\n",
      "|              Bagels|   30|\n",
      "|            Hawaiian|   23|\n",
      "|            Peruvian|   14|\n",
      "|            Japanese|  120|\n",
      "|              Family|  106|\n",
      "|          Australian|   24|\n",
      "|       Dutch-Belgian|   14|\n",
      "|            Filipino|   14|\n",
      "|             Spanish|   18|\n",
      "|          Vietnamese|   14|\n",
      "|             Burgers|   77|\n",
      "|    Breakfast-Brunch|   40|\n",
      "|    Indian-Pakistani|   27|\n",
      "|          Portuguese|   27|\n",
      "|             Burmese|   14|\n",
      "|           Hungarian|   14|\n",
      "|            Austrian|   14|\n",
      "|               Juice|   27|\n",
      "|             Italian|   98|\n",
      "|            Lebanese|   27|\n",
      "|     Organic-Healthy|   14|\n",
      "|           Caribbean|   14|\n",
      "|          Indigenous|   14|\n",
      "|   Russian-Ukrainian|   14|\n",
      "|                Soup|   18|\n",
      "|            Romanian|   14|\n",
      "|           Doughnuts|   24|\n",
      "|         Fine_Dining|   14|\n",
      "|            Pizzeria|   81|\n",
      "|          Vegetarian|   14|\n",
      "|              Korean|   23|\n",
      "|              French|   14|\n",
      "|           Malaysian|   14|\n",
      "|                Game|   50|\n",
      "|              Basque|   14|\n",
      "|     Deli-Sandwiches|   55|\n",
      "|        Southwestern|   14|\n",
      "|            Jamaican|   14|\n",
      "|             Seafood|   44|\n",
      "|            Eclectic|   14|\n",
      "|           Tea_House|   14|\n",
      "|          Polynesian|   27|\n",
      "|           Cambodian|   14|\n",
      "|               Diner|   35|\n",
      "|           Brazilian|   14|\n",
      "|               Greek|   14|\n",
      "|               Asian|   44|\n",
      "|               Cuban|   24|\n",
      "|             Israeli|   14|\n",
      "|Continental-European|   30|\n",
      "|            Moroccan|   37|\n",
      "|              German|   14|\n",
      "|            Regional|   41|\n",
      "|     Bar_Pub_Brewery|   14|\n",
      "|    Eastern_European|   27|\n",
      "|          California|   14|\n",
      "|              Steaks|   14|\n",
      "|    Cafe-Coffee_Shop|  107|\n",
      "|      Latin_American|   78|\n",
      "|   Pacific_Northwest|   14|\n",
      "|       Mediterranean|   14|\n",
      "|            Tunisian|   14|\n",
      "|            Barbecue|   63|\n",
      "|            American|  133|\n",
      "|              Afghan|   24|\n",
      "|        Contemporary|   77|\n",
      "|              Kosher|   14|\n",
      "|            Canadian|   14|\n",
      "|             Tex-Mex|   28|\n",
      "+--------------------+-----+\n",
      "\n"
     ]
    }
   ],
   "source": [
    "merged_df.groupBy('cuisine').count().show(1000)"
   ]
  },
  {
   "cell_type": "code",
   "execution_count": 12,
   "id": "fcb2d4d4",
   "metadata": {},
   "outputs": [
    {
     "data": {
      "text/plain": [
       "5"
      ]
     },
     "execution_count": 12,
     "metadata": {},
     "output_type": "execute_result"
    }
   ],
   "source": [
    "# unique payment types list\n",
    "unique_payment_list = []\n",
    "unique_payment_list = merged_df.select('payment').distinct().collect()\n",
    "len(unique_payment_list)"
   ]
  },
  {
   "cell_type": "code",
   "execution_count": 13,
   "id": "e8cf66c2",
   "metadata": {},
   "outputs": [
    {
     "name": "stdout",
     "output_type": "stream",
     "text": [
      "+-------------------+-----+\n",
      "|            payment|count|\n",
      "+-------------------+-----+\n",
      "|   bank_debit_cards|  217|\n",
      "|               VISA|  300|\n",
      "|MasterCard-Eurocard|  204|\n",
      "|   American_Express|   17|\n",
      "|               cash| 3352|\n",
      "+-------------------+-----+\n",
      "\n"
     ]
    }
   ],
   "source": [
    "merged_df.groupBy('payment').count().show()"
   ]
  },
  {
   "cell_type": "code",
   "execution_count": 14,
   "id": "9edb2ce2",
   "metadata": {},
   "outputs": [
    {
     "data": {
      "text/plain": [
       "2"
      ]
     },
     "execution_count": 14,
     "metadata": {},
     "output_type": "execute_result"
    }
   ],
   "source": [
    "# unique smoker types list\n",
    "unique_smoker_list = []\n",
    "unique_smoker_list = merged_df.select('smoker').distinct().collect()\n",
    "len(unique_smoker_list)"
   ]
  },
  {
   "cell_type": "code",
   "execution_count": 15,
   "id": "59ba05e6",
   "metadata": {},
   "outputs": [
    {
     "name": "stdout",
     "output_type": "stream",
     "text": [
      "+------+-----+\n",
      "|smoker|count|\n",
      "+------+-----+\n",
      "| false| 3787|\n",
      "|  true|  303|\n",
      "+------+-----+\n",
      "\n"
     ]
    }
   ],
   "source": [
    "merged_df.groupBy('smoker').count().show()"
   ]
  },
  {
   "cell_type": "code",
   "execution_count": 16,
   "id": "a9b64443",
   "metadata": {},
   "outputs": [
    {
     "data": {
      "text/plain": [
       "4"
      ]
     },
     "execution_count": 16,
     "metadata": {},
     "output_type": "execute_result"
    }
   ],
   "source": [
    "# unique ambience types list\n",
    "unique_ambience_list = []\n",
    "unique_ambience_list = merged_df.select('ambience').distinct().collect()\n",
    "len(unique_ambience_list)"
   ]
  },
  {
   "cell_type": "code",
   "execution_count": 17,
   "id": "7a05583a",
   "metadata": {},
   "outputs": [
    {
     "name": "stdout",
     "output_type": "stream",
     "text": [
      "+--------+-----+\n",
      "|ambience|count|\n",
      "+--------+-----+\n",
      "| friends|  882|\n",
      "|  family| 2427|\n",
      "|       ?|   27|\n",
      "|solitary|  754|\n",
      "+--------+-----+\n",
      "\n"
     ]
    }
   ],
   "source": [
    "merged_df.groupBy('ambience').count().show()"
   ]
  },
  {
   "cell_type": "code",
   "execution_count": 18,
   "id": "514fc1d5",
   "metadata": {},
   "outputs": [
    {
     "data": {
      "text/plain": [
       "4"
      ]
     },
     "execution_count": 18,
     "metadata": {},
     "output_type": "execute_result"
    }
   ],
   "source": [
    "# unique transport types list\n",
    "unique_transport_list = []\n",
    "unique_transport_list = merged_df.select('transport').distinct().collect()\n",
    "len(unique_transport_list)"
   ]
  },
  {
   "cell_type": "code",
   "execution_count": 19,
   "id": "3a373382",
   "metadata": {},
   "outputs": [
    {
     "name": "stdout",
     "output_type": "stream",
     "text": [
      "+---------+-----+\n",
      "|transport|count|\n",
      "+---------+-----+\n",
      "|   public| 1627|\n",
      "|        ?|   26|\n",
      "|car owner|  634|\n",
      "|  on foot| 1803|\n",
      "+---------+-----+\n",
      "\n"
     ]
    }
   ],
   "source": [
    "merged_df.groupBy('transport').count().show()"
   ]
  },
  {
   "cell_type": "code",
   "execution_count": 20,
   "id": "42a26f94",
   "metadata": {},
   "outputs": [
    {
     "data": {
      "text/plain": [
       "4"
      ]
     },
     "execution_count": 20,
     "metadata": {},
     "output_type": "execute_result"
    }
   ],
   "source": [
    "# unique marital status types list\n",
    "unique_marital_status_list = []\n",
    "unique_marital_status_list = merged_df.select('marital_status').distinct().collect()\n",
    "len(unique_marital_status_list)"
   ]
  },
  {
   "cell_type": "code",
   "execution_count": 21,
   "id": "f0474bc0",
   "metadata": {},
   "outputs": [
    {
     "name": "stdout",
     "output_type": "stream",
     "text": [
      "+--------------+-----+\n",
      "|marital_status|count|\n",
      "+--------------+-----+\n",
      "|         widow|   31|\n",
      "|       married|  131|\n",
      "|        single| 3919|\n",
      "|             ?|    9|\n",
      "+--------------+-----+\n",
      "\n"
     ]
    }
   ],
   "source": [
    "merged_df.groupBy('marital_status').count().show()"
   ]
  },
  {
   "cell_type": "code",
   "execution_count": 22,
   "id": "c10d454d",
   "metadata": {},
   "outputs": [
    {
     "data": {
      "text/plain": [
       "5"
      ]
     },
     "execution_count": 22,
     "metadata": {},
     "output_type": "execute_result"
    }
   ],
   "source": [
    "# unique job types list \n",
    "unique_job_list = []\n",
    "unique_job_list = merged_df.select('job').distinct().collect()\n",
    "len(unique_job_list)"
   ]
  },
  {
   "cell_type": "code",
   "execution_count": 23,
   "id": "d54593f9",
   "metadata": {},
   "outputs": [
    {
     "name": "stdout",
     "output_type": "stream",
     "text": [
      "+-------------+-----+\n",
      "|          job|count|\n",
      "+-------------+-----+\n",
      "|working-class|    8|\n",
      "|      student| 3655|\n",
      "| professional|  385|\n",
      "|            ?|   25|\n",
      "|   unemployed|   17|\n",
      "+-------------+-----+\n",
      "\n"
     ]
    }
   ],
   "source": [
    "merged_df.groupBy('job').count().show()"
   ]
  },
  {
   "cell_type": "code",
   "execution_count": 24,
   "id": "8b3cb592",
   "metadata": {},
   "outputs": [
    {
     "data": {
      "text/plain": [
       "4"
      ]
     },
     "execution_count": 24,
     "metadata": {},
     "output_type": "execute_result"
    }
   ],
   "source": [
    "# unique budget types list\n",
    "unique_budget_list = []\n",
    "unique_budget_list = merged_df.select('budget').distinct().collect()\n",
    "len(unique_budget_list)"
   ]
  },
  {
   "cell_type": "code",
   "execution_count": 25,
   "id": "553b433a",
   "metadata": {},
   "outputs": [
    {
     "name": "stdout",
     "output_type": "stream",
     "text": [
      "+------+-----+\n",
      "|budget|count|\n",
      "+------+-----+\n",
      "|   low| 2012|\n",
      "|  high|   86|\n",
      "|medium| 1954|\n",
      "|     ?|   38|\n",
      "+------+-----+\n",
      "\n"
     ]
    }
   ],
   "source": [
    "merged_df.groupBy('budget').count().show()"
   ]
  },
  {
   "cell_type": "code",
   "execution_count": 26,
   "id": "3335bd3d",
   "metadata": {},
   "outputs": [
    {
     "data": {
      "text/html": [
       "<div>\n",
       "<style scoped>\n",
       "    .dataframe tbody tr th:only-of-type {\n",
       "        vertical-align: middle;\n",
       "    }\n",
       "\n",
       "    .dataframe tbody tr th {\n",
       "        vertical-align: top;\n",
       "    }\n",
       "\n",
       "    .dataframe thead th {\n",
       "        text-align: right;\n",
       "    }\n",
       "</style>\n",
       "<table border=\"1\" class=\"dataframe\">\n",
       "  <thead>\n",
       "    <tr style=\"text-align: right;\">\n",
       "      <th></th>\n",
       "      <th>userId</th>\n",
       "      <th>placeId</th>\n",
       "      <th>rating</th>\n",
       "      <th>cuisine</th>\n",
       "      <th>payment</th>\n",
       "      <th>smoker</th>\n",
       "      <th>ambience</th>\n",
       "      <th>transport</th>\n",
       "      <th>marital_status</th>\n",
       "      <th>job</th>\n",
       "      <th>budget</th>\n",
       "    </tr>\n",
       "  </thead>\n",
       "  <tbody>\n",
       "    <tr>\n",
       "      <th>0</th>\n",
       "      <td>U1077</td>\n",
       "      <td>135085</td>\n",
       "      <td>2</td>\n",
       "      <td>Mexican</td>\n",
       "      <td>bank_debit_cards</td>\n",
       "      <td>false</td>\n",
       "      <td>family</td>\n",
       "      <td>public</td>\n",
       "      <td>married</td>\n",
       "      <td>student</td>\n",
       "      <td>medium</td>\n",
       "    </tr>\n",
       "    <tr>\n",
       "      <th>1</th>\n",
       "      <td>U1077</td>\n",
       "      <td>135085</td>\n",
       "      <td>2</td>\n",
       "      <td>Mexican</td>\n",
       "      <td>cash</td>\n",
       "      <td>false</td>\n",
       "      <td>family</td>\n",
       "      <td>public</td>\n",
       "      <td>married</td>\n",
       "      <td>student</td>\n",
       "      <td>medium</td>\n",
       "    </tr>\n",
       "    <tr>\n",
       "      <th>2</th>\n",
       "      <td>U1077</td>\n",
       "      <td>135085</td>\n",
       "      <td>2</td>\n",
       "      <td>Mexican</td>\n",
       "      <td>VISA</td>\n",
       "      <td>false</td>\n",
       "      <td>family</td>\n",
       "      <td>public</td>\n",
       "      <td>married</td>\n",
       "      <td>student</td>\n",
       "      <td>medium</td>\n",
       "    </tr>\n",
       "    <tr>\n",
       "      <th>3</th>\n",
       "      <td>U1077</td>\n",
       "      <td>135038</td>\n",
       "      <td>2</td>\n",
       "      <td>Mexican</td>\n",
       "      <td>bank_debit_cards</td>\n",
       "      <td>false</td>\n",
       "      <td>family</td>\n",
       "      <td>public</td>\n",
       "      <td>married</td>\n",
       "      <td>student</td>\n",
       "      <td>medium</td>\n",
       "    </tr>\n",
       "    <tr>\n",
       "      <th>4</th>\n",
       "      <td>U1077</td>\n",
       "      <td>135038</td>\n",
       "      <td>2</td>\n",
       "      <td>Mexican</td>\n",
       "      <td>cash</td>\n",
       "      <td>false</td>\n",
       "      <td>family</td>\n",
       "      <td>public</td>\n",
       "      <td>married</td>\n",
       "      <td>student</td>\n",
       "      <td>medium</td>\n",
       "    </tr>\n",
       "    <tr>\n",
       "      <th>...</th>\n",
       "      <td>...</td>\n",
       "      <td>...</td>\n",
       "      <td>...</td>\n",
       "      <td>...</td>\n",
       "      <td>...</td>\n",
       "      <td>...</td>\n",
       "      <td>...</td>\n",
       "      <td>...</td>\n",
       "      <td>...</td>\n",
       "      <td>...</td>\n",
       "      <td>...</td>\n",
       "    </tr>\n",
       "    <tr>\n",
       "      <th>4085</th>\n",
       "      <td>U1043</td>\n",
       "      <td>132630</td>\n",
       "      <td>1</td>\n",
       "      <td>Latin_American</td>\n",
       "      <td>cash</td>\n",
       "      <td>false</td>\n",
       "      <td>solitary</td>\n",
       "      <td>public</td>\n",
       "      <td>single</td>\n",
       "      <td>student</td>\n",
       "      <td>medium</td>\n",
       "    </tr>\n",
       "    <tr>\n",
       "      <th>4086</th>\n",
       "      <td>U1011</td>\n",
       "      <td>132715</td>\n",
       "      <td>1</td>\n",
       "      <td>Mexican</td>\n",
       "      <td>cash</td>\n",
       "      <td>false</td>\n",
       "      <td>family</td>\n",
       "      <td>public</td>\n",
       "      <td>single</td>\n",
       "      <td>student</td>\n",
       "      <td>medium</td>\n",
       "    </tr>\n",
       "    <tr>\n",
       "      <th>4087</th>\n",
       "      <td>U1068</td>\n",
       "      <td>132733</td>\n",
       "      <td>1</td>\n",
       "      <td>Mexican</td>\n",
       "      <td>cash</td>\n",
       "      <td>false</td>\n",
       "      <td>friends</td>\n",
       "      <td>public</td>\n",
       "      <td>single</td>\n",
       "      <td>student</td>\n",
       "      <td>low</td>\n",
       "    </tr>\n",
       "    <tr>\n",
       "      <th>4088</th>\n",
       "      <td>U1068</td>\n",
       "      <td>132594</td>\n",
       "      <td>1</td>\n",
       "      <td>Mexican</td>\n",
       "      <td>cash</td>\n",
       "      <td>false</td>\n",
       "      <td>friends</td>\n",
       "      <td>public</td>\n",
       "      <td>single</td>\n",
       "      <td>student</td>\n",
       "      <td>low</td>\n",
       "    </tr>\n",
       "    <tr>\n",
       "      <th>4089</th>\n",
       "      <td>U1068</td>\n",
       "      <td>132660</td>\n",
       "      <td>0</td>\n",
       "      <td>Mexican</td>\n",
       "      <td>cash</td>\n",
       "      <td>false</td>\n",
       "      <td>friends</td>\n",
       "      <td>public</td>\n",
       "      <td>single</td>\n",
       "      <td>student</td>\n",
       "      <td>low</td>\n",
       "    </tr>\n",
       "  </tbody>\n",
       "</table>\n",
       "<p>4090 rows × 11 columns</p>\n",
       "</div>"
      ],
      "text/plain": [
       "     userId placeId rating         cuisine           payment smoker  ambience  \\\n",
       "0     U1077  135085      2         Mexican  bank_debit_cards  false    family   \n",
       "1     U1077  135085      2         Mexican              cash  false    family   \n",
       "2     U1077  135085      2         Mexican              VISA  false    family   \n",
       "3     U1077  135038      2         Mexican  bank_debit_cards  false    family   \n",
       "4     U1077  135038      2         Mexican              cash  false    family   \n",
       "...     ...     ...    ...             ...               ...    ...       ...   \n",
       "4085  U1043  132630      1  Latin_American              cash  false  solitary   \n",
       "4086  U1011  132715      1         Mexican              cash  false    family   \n",
       "4087  U1068  132733      1         Mexican              cash  false   friends   \n",
       "4088  U1068  132594      1         Mexican              cash  false   friends   \n",
       "4089  U1068  132660      0         Mexican              cash  false   friends   \n",
       "\n",
       "     transport marital_status      job  budget  \n",
       "0       public        married  student  medium  \n",
       "1       public        married  student  medium  \n",
       "2       public        married  student  medium  \n",
       "3       public        married  student  medium  \n",
       "4       public        married  student  medium  \n",
       "...        ...            ...      ...     ...  \n",
       "4085    public         single  student  medium  \n",
       "4086    public         single  student  medium  \n",
       "4087    public         single  student     low  \n",
       "4088    public         single  student     low  \n",
       "4089    public         single  student     low  \n",
       "\n",
       "[4090 rows x 11 columns]"
      ]
     },
     "execution_count": 26,
     "metadata": {},
     "output_type": "execute_result"
    }
   ],
   "source": [
    "merged_df.toPandas()"
   ]
  },
  {
   "cell_type": "code",
   "execution_count": 27,
   "id": "82ac8a82",
   "metadata": {},
   "outputs": [
    {
     "name": "stdout",
     "output_type": "stream",
     "text": [
      "200000\r"
     ]
    },
    {
     "data": {
      "text/html": [
       "<div>\n",
       "<style scoped>\n",
       "    .dataframe tbody tr th:only-of-type {\n",
       "        vertical-align: middle;\n",
       "    }\n",
       "\n",
       "    .dataframe tbody tr th {\n",
       "        vertical-align: top;\n",
       "    }\n",
       "\n",
       "    .dataframe thead th {\n",
       "        text-align: right;\n",
       "    }\n",
       "</style>\n",
       "<table border=\"1\" class=\"dataframe\">\n",
       "  <thead>\n",
       "    <tr style=\"text-align: right;\">\n",
       "      <th></th>\n",
       "      <th>userId</th>\n",
       "      <th>placeId</th>\n",
       "      <th>rating</th>\n",
       "      <th>cuisine</th>\n",
       "      <th>payment</th>\n",
       "      <th>smoker</th>\n",
       "      <th>ambience</th>\n",
       "      <th>transport</th>\n",
       "      <th>marital_status</th>\n",
       "      <th>job</th>\n",
       "      <th>budget</th>\n",
       "    </tr>\n",
       "  </thead>\n",
       "  <tbody>\n",
       "    <tr>\n",
       "      <th>0</th>\n",
       "      <td>1.0</td>\n",
       "      <td>1.0</td>\n",
       "      <td>3.0</td>\n",
       "      <td>Italian</td>\n",
       "      <td>cash</td>\n",
       "      <td>false</td>\n",
       "      <td>family</td>\n",
       "      <td>public</td>\n",
       "      <td>single</td>\n",
       "      <td>student</td>\n",
       "      <td>low</td>\n",
       "    </tr>\n",
       "    <tr>\n",
       "      <th>1</th>\n",
       "      <td>2.0</td>\n",
       "      <td>2.0</td>\n",
       "      <td>1.0</td>\n",
       "      <td>Moroccan</td>\n",
       "      <td>cash</td>\n",
       "      <td>false</td>\n",
       "      <td>solitary</td>\n",
       "      <td>on foot</td>\n",
       "      <td>single</td>\n",
       "      <td>student</td>\n",
       "      <td>medium</td>\n",
       "    </tr>\n",
       "    <tr>\n",
       "      <th>2</th>\n",
       "      <td>3.0</td>\n",
       "      <td>3.0</td>\n",
       "      <td>5.0</td>\n",
       "      <td>Pizzeria</td>\n",
       "      <td>cash</td>\n",
       "      <td>false</td>\n",
       "      <td>friends</td>\n",
       "      <td>car owner</td>\n",
       "      <td>single</td>\n",
       "      <td>student</td>\n",
       "      <td>low</td>\n",
       "    </tr>\n",
       "    <tr>\n",
       "      <th>3</th>\n",
       "      <td>4.0</td>\n",
       "      <td>4.0</td>\n",
       "      <td>5.0</td>\n",
       "      <td>Middle_Eastern</td>\n",
       "      <td>cash</td>\n",
       "      <td>false</td>\n",
       "      <td>family</td>\n",
       "      <td>on foot</td>\n",
       "      <td>single</td>\n",
       "      <td>student</td>\n",
       "      <td>medium</td>\n",
       "    </tr>\n",
       "    <tr>\n",
       "      <th>4</th>\n",
       "      <td>5.0</td>\n",
       "      <td>5.0</td>\n",
       "      <td>4.0</td>\n",
       "      <td>Regional</td>\n",
       "      <td>cash</td>\n",
       "      <td>true</td>\n",
       "      <td>family</td>\n",
       "      <td>on foot</td>\n",
       "      <td>single</td>\n",
       "      <td>student</td>\n",
       "      <td>low</td>\n",
       "    </tr>\n",
       "    <tr>\n",
       "      <th>...</th>\n",
       "      <td>...</td>\n",
       "      <td>...</td>\n",
       "      <td>...</td>\n",
       "      <td>...</td>\n",
       "      <td>...</td>\n",
       "      <td>...</td>\n",
       "      <td>...</td>\n",
       "      <td>...</td>\n",
       "      <td>...</td>\n",
       "      <td>...</td>\n",
       "      <td>...</td>\n",
       "    </tr>\n",
       "    <tr>\n",
       "      <th>199995</th>\n",
       "      <td>1000.0</td>\n",
       "      <td>983.0</td>\n",
       "      <td>4.0</td>\n",
       "      <td>Korean</td>\n",
       "      <td>cash</td>\n",
       "      <td>false</td>\n",
       "      <td>friends</td>\n",
       "      <td>on foot</td>\n",
       "      <td>single</td>\n",
       "      <td>student</td>\n",
       "      <td>low</td>\n",
       "    </tr>\n",
       "    <tr>\n",
       "      <th>199996</th>\n",
       "      <td>1000.0</td>\n",
       "      <td>704.0</td>\n",
       "      <td>1.0</td>\n",
       "      <td>Mongolian</td>\n",
       "      <td>cash</td>\n",
       "      <td>false</td>\n",
       "      <td>family</td>\n",
       "      <td>on foot</td>\n",
       "      <td>single</td>\n",
       "      <td>student</td>\n",
       "      <td>low</td>\n",
       "    </tr>\n",
       "    <tr>\n",
       "      <th>199997</th>\n",
       "      <td>1000.0</td>\n",
       "      <td>870.0</td>\n",
       "      <td>1.0</td>\n",
       "      <td>Mexican</td>\n",
       "      <td>VISA</td>\n",
       "      <td>false</td>\n",
       "      <td>friends</td>\n",
       "      <td>public</td>\n",
       "      <td>single</td>\n",
       "      <td>student</td>\n",
       "      <td>low</td>\n",
       "    </tr>\n",
       "    <tr>\n",
       "      <th>199998</th>\n",
       "      <td>1000.0</td>\n",
       "      <td>468.0</td>\n",
       "      <td>1.0</td>\n",
       "      <td>Bagels</td>\n",
       "      <td>cash</td>\n",
       "      <td>false</td>\n",
       "      <td>friends</td>\n",
       "      <td>public</td>\n",
       "      <td>single</td>\n",
       "      <td>student</td>\n",
       "      <td>low</td>\n",
       "    </tr>\n",
       "    <tr>\n",
       "      <th>199999</th>\n",
       "      <td>1000.0</td>\n",
       "      <td>908.0</td>\n",
       "      <td>1.0</td>\n",
       "      <td>Mexican</td>\n",
       "      <td>cash</td>\n",
       "      <td>false</td>\n",
       "      <td>family</td>\n",
       "      <td>public</td>\n",
       "      <td>single</td>\n",
       "      <td>student</td>\n",
       "      <td>low</td>\n",
       "    </tr>\n",
       "  </tbody>\n",
       "</table>\n",
       "<p>200000 rows × 11 columns</p>\n",
       "</div>"
      ],
      "text/plain": [
       "        userId placeId rating         cuisine payment smoker  ambience  \\\n",
       "0          1.0     1.0    3.0         Italian    cash  false    family   \n",
       "1          2.0     2.0    1.0        Moroccan    cash  false  solitary   \n",
       "2          3.0     3.0    5.0        Pizzeria    cash  false   friends   \n",
       "3          4.0     4.0    5.0  Middle_Eastern    cash  false    family   \n",
       "4          5.0     5.0    4.0        Regional    cash   true    family   \n",
       "...        ...     ...    ...             ...     ...    ...       ...   \n",
       "199995  1000.0   983.0    4.0          Korean    cash  false   friends   \n",
       "199996  1000.0   704.0    1.0       Mongolian    cash  false    family   \n",
       "199997  1000.0   870.0    1.0         Mexican    VISA  false   friends   \n",
       "199998  1000.0   468.0    1.0          Bagels    cash  false   friends   \n",
       "199999  1000.0   908.0    1.0         Mexican    cash  false    family   \n",
       "\n",
       "        transport marital_status      job  budget  \n",
       "0          public         single  student     low  \n",
       "1         on foot         single  student  medium  \n",
       "2       car owner         single  student     low  \n",
       "3         on foot         single  student  medium  \n",
       "4         on foot         single  student     low  \n",
       "...           ...            ...      ...     ...  \n",
       "199995    on foot         single  student     low  \n",
       "199996    on foot         single  student     low  \n",
       "199997     public         single  student     low  \n",
       "199998     public         single  student     low  \n",
       "199999     public         single  student     low  \n",
       "\n",
       "[200000 rows x 11 columns]"
      ]
     },
     "execution_count": 27,
     "metadata": {},
     "output_type": "execute_result"
    }
   ],
   "source": [
    "utils.create_new_df(unique_cuisine_list, unique_payment_list, unique_smoker_list, unique_ambience_list, unique_transport_list, unique_marital_status_list, unique_job_list, unique_budget_list)\n",
    "new_df = spark.read.option(\"header\", \"true\").csv(\"my_restaurant_dataset4.csv\")\n",
    "new_df = new_df.selectExpr(\"userId\", \"placeId\", \"rating\", \"cuisine\", \"payment\", \"smoker\", \"ambience\", \"transport\", \"marital_status\", \"job\", \"budget\")\n",
    "new_df.toPandas()"
   ]
  },
  {
   "cell_type": "code",
   "execution_count": 38,
   "id": "081dcf25",
   "metadata": {},
   "outputs": [],
   "source": [
    "#new_df.groupBy('userId').count().show(1000)"
   ]
  },
  {
   "cell_type": "code",
   "execution_count": 39,
   "id": "de1359cb",
   "metadata": {},
   "outputs": [],
   "source": [
    "#new_df.groupBy('placeId').count().show(1000)"
   ]
  },
  {
   "cell_type": "code",
   "execution_count": 30,
   "id": "7eae4a6b",
   "metadata": {},
   "outputs": [
    {
     "name": "stdout",
     "output_type": "stream",
     "text": [
      "+--------------------+-----+\n",
      "|             cuisine|count|\n",
      "+--------------------+-----+\n",
      "|       International| 2145|\n",
      "|           Cafeteria| 3364|\n",
      "|             Mexican|52034|\n",
      "|        Cajun-Creole| 1118|\n",
      "|              Bakery|  567|\n",
      "|                 Bar| 1837|\n",
      "|             Tibetan| 1028|\n",
      "|             Turkish| 2093|\n",
      "|        Scandinavian|  683|\n",
      "|       North_African|  115|\n",
      "|            Armenian|  832|\n",
      "|             Dim_Sum|   47|\n",
      "|      Middle_Eastern|  246|\n",
      "|         Pacific_Rim| 1396|\n",
      "|             Persian|   39|\n",
      "|   Dessert-Ice_Cream| 1177|\n",
      "|           Ethiopian|  295|\n",
      "|               Swiss|  456|\n",
      "|                Thai| 1070|\n",
      "|              Fusion|  354|\n",
      "|            Southern|  167|\n",
      "|               Sushi| 2536|\n",
      "|             Chinese| 2516|\n",
      "|          Indonesian|   43|\n",
      "|             African|  431|\n",
      "|     Southeast_Asian|  598|\n",
      "|           Mongolian|  953|\n",
      "|            Hot_Dogs| 3845|\n",
      "|             Chilean| 1401|\n",
      "|               Irish| 1208|\n",
      "|           Fast_Food| 1988|\n",
      "|              Polish| 1705|\n",
      "|             British|  371|\n",
      "|            Hawaiian| 1811|\n",
      "|              Bagels|  340|\n",
      "|            Peruvian|  699|\n",
      "|            Japanese| 3051|\n",
      "|              Family| 5348|\n",
      "|          Australian| 1141|\n",
      "|            Filipino|  398|\n",
      "|       Dutch-Belgian| 1348|\n",
      "|             Spanish| 1626|\n",
      "|          Vietnamese| 1165|\n",
      "|    Breakfast-Brunch| 1562|\n",
      "|             Burgers| 4436|\n",
      "|    Indian-Pakistani| 1299|\n",
      "|          Portuguese| 2051|\n",
      "|             Burmese| 2115|\n",
      "|           Hungarian| 2157|\n",
      "|            Austrian|  687|\n",
      "|               Juice| 1853|\n",
      "|             Italian| 5385|\n",
      "|            Lebanese|  257|\n",
      "|     Organic-Healthy|  823|\n",
      "|          Indigenous|  633|\n",
      "|   Russian-Ukrainian|  855|\n",
      "|           Caribbean|  361|\n",
      "|                Soup| 2418|\n",
      "|            Romanian| 1248|\n",
      "|           Doughnuts| 1773|\n",
      "|         Fine_Dining|   33|\n",
      "|            Pizzeria| 5770|\n",
      "|          Vegetarian|   17|\n",
      "|              Korean| 3619|\n",
      "|              French|  643|\n",
      "|           Malaysian|  590|\n",
      "|                Game| 3663|\n",
      "|              Basque|  250|\n",
      "|     Deli-Sandwiches| 3161|\n",
      "|        Southwestern|  161|\n",
      "|            Jamaican|  229|\n",
      "|            Eclectic| 1818|\n",
      "|             Seafood| 1538|\n",
      "|           Tea_House|   59|\n",
      "|          Polynesian|  629|\n",
      "|           Cambodian|  417|\n",
      "|               Diner| 1006|\n",
      "|           Brazilian|  357|\n",
      "|               Greek| 1650|\n",
      "|               Asian| 1606|\n",
      "|               Cuban|  883|\n",
      "|             Israeli|  796|\n",
      "|Continental-European| 1792|\n",
      "|            Moroccan| 1190|\n",
      "|              German|  302|\n",
      "|            Regional|  381|\n",
      "|     Bar_Pub_Brewery|  642|\n",
      "|    Eastern_European| 2434|\n",
      "|          California| 1014|\n",
      "|              Steaks| 1324|\n",
      "|    Cafe-Coffee_Shop| 4353|\n",
      "|      Latin_American| 4484|\n",
      "|       Mediterranean|  892|\n",
      "|            Tunisian|  350|\n",
      "|            Barbecue| 2104|\n",
      "|            American| 6348|\n",
      "|              Afghan|  282|\n",
      "|        Contemporary| 4975|\n",
      "|            Canadian|   58|\n",
      "|              Kosher| 1426|\n",
      "|             Tex-Mex| 1256|\n",
      "+--------------------+-----+\n",
      "\n"
     ]
    }
   ],
   "source": [
    "new_df.groupBy('cuisine').count().show(1000)"
   ]
  },
  {
   "cell_type": "code",
   "execution_count": 31,
   "id": "0d430ea8",
   "metadata": {},
   "outputs": [
    {
     "name": "stdout",
     "output_type": "stream",
     "text": [
      "+-------------------+------+\n",
      "|            payment| count|\n",
      "+-------------------+------+\n",
      "|   bank_debit_cards| 12097|\n",
      "|               VISA| 16037|\n",
      "|MasterCard-Eurocard| 10529|\n",
      "|   American_Express|   388|\n",
      "|               cash|160949|\n",
      "+-------------------+------+\n",
      "\n"
     ]
    }
   ],
   "source": [
    "new_df.groupBy('payment').count().show()"
   ]
  },
  {
   "cell_type": "code",
   "execution_count": 32,
   "id": "33c901a1",
   "metadata": {},
   "outputs": [
    {
     "name": "stdout",
     "output_type": "stream",
     "text": [
      "+------+------+\n",
      "|smoker| count|\n",
      "+------+------+\n",
      "| false|185213|\n",
      "|  true| 14787|\n",
      "+------+------+\n",
      "\n"
     ]
    }
   ],
   "source": [
    "new_df.groupBy('smoker').count().show()"
   ]
  },
  {
   "cell_type": "code",
   "execution_count": 33,
   "id": "d11ce5db",
   "metadata": {},
   "outputs": [
    {
     "name": "stdout",
     "output_type": "stream",
     "text": [
      "+--------+------+\n",
      "|ambience| count|\n",
      "+--------+------+\n",
      "| friends| 43216|\n",
      "|  family|119482|\n",
      "|solitary| 37302|\n",
      "+--------+------+\n",
      "\n"
     ]
    }
   ],
   "source": [
    "new_df.groupBy('ambience').count().show()"
   ]
  },
  {
   "cell_type": "code",
   "execution_count": 34,
   "id": "b9e2ba29",
   "metadata": {},
   "outputs": [
    {
     "name": "stdout",
     "output_type": "stream",
     "text": [
      "+---------+-----+\n",
      "|transport|count|\n",
      "+---------+-----+\n",
      "|   public|80108|\n",
      "|car owner|31372|\n",
      "|  on foot|88520|\n",
      "+---------+-----+\n",
      "\n"
     ]
    }
   ],
   "source": [
    "new_df.groupBy('transport').count().show()"
   ]
  },
  {
   "cell_type": "code",
   "execution_count": 35,
   "id": "d11ce9f4",
   "metadata": {},
   "outputs": [
    {
     "name": "stdout",
     "output_type": "stream",
     "text": [
      "+--------------+------+\n",
      "|marital_status| count|\n",
      "+--------------+------+\n",
      "|         widow|   656|\n",
      "|       married|  6683|\n",
      "|        single|192661|\n",
      "+--------------+------+\n",
      "\n"
     ]
    }
   ],
   "source": [
    "new_df.groupBy('marital_status').count().show()"
   ]
  },
  {
   "cell_type": "code",
   "execution_count": 36,
   "id": "78e725df",
   "metadata": {},
   "outputs": [
    {
     "name": "stdout",
     "output_type": "stream",
     "text": [
      "+-------------+------+\n",
      "|          job| count|\n",
      "+-------------+------+\n",
      "|working-class|  1117|\n",
      "|      student|178910|\n",
      "| professional| 19410|\n",
      "|   unemployed|   563|\n",
      "+-------------+------+\n",
      "\n"
     ]
    }
   ],
   "source": [
    "new_df.groupBy('job').count().show()"
   ]
  },
  {
   "cell_type": "code",
   "execution_count": 37,
   "id": "47f38ef4",
   "metadata": {},
   "outputs": [
    {
     "name": "stdout",
     "output_type": "stream",
     "text": [
      "+------+------+\n",
      "|budget| count|\n",
      "+------+------+\n",
      "|   low|103578|\n",
      "|  high|  4121|\n",
      "|medium| 92301|\n",
      "+------+------+\n",
      "\n"
     ]
    }
   ],
   "source": [
    "new_df.groupBy('budget').count().show()"
   ]
  }
 ],
 "metadata": {
  "kernelspec": {
   "display_name": "Python 3 (ipykernel)",
   "language": "python",
   "name": "python3"
  },
  "language_info": {
   "codemirror_mode": {
    "name": "ipython",
    "version": 3
   },
   "file_extension": ".py",
   "mimetype": "text/x-python",
   "name": "python",
   "nbconvert_exporter": "python",
   "pygments_lexer": "ipython3",
   "version": "3.9.9"
  }
 },
 "nbformat": 4,
 "nbformat_minor": 5
}
