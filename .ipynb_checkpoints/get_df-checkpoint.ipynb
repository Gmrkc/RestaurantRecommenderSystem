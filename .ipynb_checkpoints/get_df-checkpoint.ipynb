{
 "cells": [
  {
   "cell_type": "code",
   "execution_count": null,
   "id": "ee856b6c",
   "metadata": {},
   "outputs": [],
   "source": [
    "from pyspark.sql import SparkSession\n",
    "from pyspark.sql.functions import when\n",
    "import utils"
   ]
  },
  {
   "cell_type": "code",
   "execution_count": null,
   "id": "b513e860",
   "metadata": {},
   "outputs": [],
   "source": [
    "# start spark session\n",
    "spark = SparkSession.builder.master(\"local[1]\").appName(\"Restaurant Recommender\").getOrCreate()"
   ]
  },
  {
   "cell_type": "code",
   "execution_count": null,
   "id": "c03e9249",
   "metadata": {},
   "outputs": [],
   "source": [
    "# get dataframes from csv files\n",
    "ratings_df = spark.read.option(\"header\", \"true\").csv(\"RawData/rating_final.csv\")\n",
    "user_cuisine_df = spark.read.option(\"header\", \"true\").csv(\"RawData/usercuisine.csv\")\n",
    "user_payment_df = spark.read.option(\"header\", \"true\").csv(\"RawData/userpayment.csv\")\n",
    "user_profile_df = spark.read.option(\"header\", \"true\").csv(\"RawData/userprofile.csv\")"
   ]
  },
  {
   "cell_type": "code",
   "execution_count": null,
   "id": "07ca4c5f",
   "metadata": {},
   "outputs": [],
   "source": [
    "# get selected columns from dataframes\n",
    "ratings_df = ratings_df.selectExpr(\"userID as userId\", \"placeID as placeId\", \"rating as rating\")\n",
    "user_cuisine_df = user_cuisine_df.selectExpr(\"userID as userId\", \"Rcuisine as cuisine\")\n",
    "user_payment_df = user_payment_df.selectExpr(\"userID as userId\", \"Upayment as payment\")\n",
    "user_profile_df = user_profile_df.selectExpr(\"userID as userId\", \"smoker as smoker\", \"ambience as ambience\", \"transport as transport\", \"marital_status as marital_status\", \"birth_year as age\", \"activity as job\", \"budget as budget\")"
   ]
  },
  {
   "cell_type": "code",
   "execution_count": null,
   "id": "6250e1b7",
   "metadata": {},
   "outputs": [],
   "source": [
    "# merged data frames into one\n",
    "merged_df = ratings_df.join(user_cuisine_df, [\"userId\"])\n",
    "merged_df = merged_df.join(user_payment_df, [\"userId\"])\n",
    "merged_df = merged_df.join(user_profile_df, [\"userId\"])"
   ]
  },
  {
   "cell_type": "code",
   "execution_count": null,
   "id": "e6464d9b",
   "metadata": {},
   "outputs": [],
   "source": [
    "# unique user id list\n",
    "unique_userid_list = []\n",
    "unique_userid_list = merged_df.select('userId').distinct().collect()\n",
    "len(unique_userid_list)"
   ]
  },
  {
   "cell_type": "code",
   "execution_count": null,
   "id": "5ad999ac",
   "metadata": {},
   "outputs": [],
   "source": [
    "# unique place id list\n",
    "unique_placeid_list = []\n",
    "unique_placeid_list = merged_df.select('placeId').distinct().collect()\n",
    "len(unique_placeid_list)"
   ]
  },
  {
   "cell_type": "code",
   "execution_count": null,
   "id": "217cc9c3",
   "metadata": {},
   "outputs": [],
   "source": [
    "# unique cuisine types list\n",
    "unique_cuisine_list = []\n",
    "unique_cuisine_list = merged_df.select('cuisine').distinct().collect()\n",
    "len(unique_cuisine_list)"
   ]
  },
  {
   "cell_type": "code",
   "execution_count": null,
   "id": "fcb2d4d4",
   "metadata": {},
   "outputs": [],
   "source": [
    "# unique payment types list\n",
    "unique_payment_list = []\n",
    "unique_payment_list = merged_df.select('payment').distinct().collect()\n",
    "len(unique_payment_list)"
   ]
  },
  {
   "cell_type": "code",
   "execution_count": null,
   "id": "9edb2ce2",
   "metadata": {},
   "outputs": [],
   "source": [
    "# unique smoker types list\n",
    "unique_smoker_list = []\n",
    "unique_smoker_list = merged_df.select('smoker').distinct().collect()\n",
    "len(unique_smoker_list)"
   ]
  },
  {
   "cell_type": "code",
   "execution_count": null,
   "id": "a9b64443",
   "metadata": {},
   "outputs": [],
   "source": [
    "# unique ambience types list\n",
    "unique_ambience_list = []\n",
    "unique_ambience_list = merged_df.select('ambience').distinct().collect()\n",
    "len(unique_ambience_list)"
   ]
  },
  {
   "cell_type": "code",
   "execution_count": null,
   "id": "514fc1d5",
   "metadata": {},
   "outputs": [],
   "source": [
    "# unique transport types list\n",
    "unique_transport_list = []\n",
    "unique_transport_list = merged_df.select('transport').distinct().collect()\n",
    "len(unique_transport_list)"
   ]
  },
  {
   "cell_type": "code",
   "execution_count": null,
   "id": "42a26f94",
   "metadata": {},
   "outputs": [],
   "source": [
    "# unique marital status types list\n",
    "unique_marital_status_list = []\n",
    "unique_marital_status_list = merged_df.select('marital_status').distinct().collect()\n",
    "len(unique_marital_status_list)"
   ]
  },
  {
   "cell_type": "code",
   "execution_count": null,
   "id": "c10d454d",
   "metadata": {},
   "outputs": [],
   "source": [
    "# unique job types list \n",
    "unique_job_list = []\n",
    "unique_job_list = merged_df.select('job').distinct().collect()\n",
    "len(unique_job_list)"
   ]
  },
  {
   "cell_type": "code",
   "execution_count": null,
   "id": "8b3cb592",
   "metadata": {},
   "outputs": [],
   "source": [
    "# unique budget types list\n",
    "unique_budget_list = []\n",
    "unique_budget_list = merged_df.select('budget').distinct().collect()\n",
    "len(unique_budget_list)"
   ]
  },
  {
   "cell_type": "code",
   "execution_count": null,
   "id": "3335bd3d",
   "metadata": {},
   "outputs": [],
   "source": [
    "merged_df.toPandas()"
   ]
  },
  {
   "cell_type": "code",
   "execution_count": null,
   "id": "82ac8a82",
   "metadata": {},
   "outputs": [],
   "source": [
    "utils.create_new_df(unique_cuisine_list, unique_payment_list, unique_smoker_list, unique_ambience_list, unique_transport_list, unique_marital_status_list, unique_job_list, unique_budget_list)"
   ]
  }
 ],
 "metadata": {
  "kernelspec": {
   "display_name": "Python 3 (ipykernel)",
   "language": "python",
   "name": "python3"
  },
  "language_info": {
   "codemirror_mode": {
    "name": "ipython",
    "version": 3
   },
   "file_extension": ".py",
   "mimetype": "text/x-python",
   "name": "python",
   "nbconvert_exporter": "python",
   "pygments_lexer": "ipython3",
   "version": "3.9.9"
  }
 },
 "nbformat": 4,
 "nbformat_minor": 5
}
