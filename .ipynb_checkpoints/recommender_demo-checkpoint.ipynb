{
 "cells": [
  {
   "cell_type": "code",
   "execution_count": 1,
   "id": "b078475f",
   "metadata": {},
   "outputs": [],
   "source": [
    "from pyspark import SparkConf\n",
    "from pyspark import SparkContext"
   ]
  },
  {
   "cell_type": "code",
   "execution_count": 2,
   "id": "f1fffb26",
   "metadata": {},
   "outputs": [
    {
     "name": "stderr",
     "output_type": "stream",
     "text": [
      "22/01/18 21:18:49 WARN Utils: Your hostname, Furkans-MacBook-Air.local resolves to a loopback address: 127.0.0.1; using 192.168.1.33 instead (on interface en0)\n",
      "22/01/18 21:18:49 WARN Utils: Set SPARK_LOCAL_IP if you need to bind to another address\n",
      "Using Spark's default log4j profile: org/apache/spark/log4j-defaults.properties\n",
      "Setting default log level to \"WARN\".\n",
      "To adjust logging level use sc.setLogLevel(newLevel). For SparkR, use setLogLevel(newLevel).\n",
      "22/01/18 21:18:49 WARN NativeCodeLoader: Unable to load native-hadoop library for your platform... using builtin-java classes where applicable\n"
     ]
    }
   ],
   "source": [
    "conf = SparkConf().setAppName(\"RestaurantRecommenderSystem\")\n",
    "sc = SparkContext(conf = conf)\n",
    "sc.setCheckpointDir('checkpoint')\n",
    "sc.setSystemProperty('spark.executor.memory', '8g')"
   ]
  },
  {
   "cell_type": "code",
   "execution_count": 3,
   "id": "75c0f80f",
   "metadata": {},
   "outputs": [
    {
     "name": "stdout",
     "output_type": "stream",
     "text": [
      "Host Name: Furkans-MacBook-Air.local\n",
      "IP Address: 127.0.0.1\n",
      "\n",
      "System: Darwin\n",
      "Release: 21.2.0\n",
      "Version: Darwin Kernel Version 21.2.0: Sun Nov 28 20:29:10 PST 2021; root:xnu-8019.61.5~1/RELEASE_ARM64_T8101\n",
      "Architecture: x86_64\n",
      "Processor: i386\n",
      "RAM: 16 GB\n"
     ]
    }
   ],
   "source": [
    "import socket, platform, psutil\n",
    "\n",
    "print(f\"Host Name: {socket.gethostname()}\" \n",
    "      f\"\\nIP Address: {socket.gethostbyname(socket.gethostname())}\"\n",
    "      f\"\\n\\nSystem: {platform.system()}\"\n",
    "      f\"\\nRelease: {platform.release()}\"\n",
    "      f\"\\nVersion: {platform.version()}\"\n",
    "      f\"\\nArchitecture: {platform.machine()}\" \n",
    "      f\"\\nProcessor: {platform.processor()}\" \n",
    "      f\"\\nRAM: {str(round(psutil.virtual_memory().total / (1024.0 **3)))} GB\")"
   ]
  },
  {
   "cell_type": "code",
   "execution_count": 4,
   "id": "aee950d2",
   "metadata": {},
   "outputs": [
    {
     "name": "stderr",
     "output_type": "stream",
     "text": [
      "\r",
      "[Stage 0:>                                                          (0 + 1) / 1]\r",
      "\r",
      "                                                                                \r"
     ]
    },
    {
     "data": {
      "text/plain": [
       "['userId,placeId,rating,cuisine,payment,smoker,ambience,transport,marital_status,job,budget',\n",
       " '1.0,1.0,3.0,Italian,cash,false,family,public,single,student,low',\n",
       " '2.0,2.0,1.0,Moroccan,cash,false,solitary,on foot,single,student,medium',\n",
       " '3.0,3.0,5.0,Pizzeria,cash,false,friends,car owner,single,student,low',\n",
       " '4.0,4.0,5.0,Middle_Eastern,cash,false,family,on foot,single,student,medium',\n",
       " '5.0,5.0,4.0,Regional,cash,true,family,on foot,single,student,low',\n",
       " '6.0,6.0,5.0,Fast_Food,cash,false,family,public,single,student,medium',\n",
       " '7.0,7.0,1.0,Spanish,cash,false,solitary,on foot,single,student,low',\n",
       " '8.0,8.0,5.0,Chilean,cash,false,family,on foot,single,student,medium',\n",
       " '9.0,9.0,2.0,Continental-European,cash,false,family,public,single,student,medium']"
      ]
     },
     "execution_count": 4,
     "metadata": {},
     "output_type": "execute_result"
    }
   ],
   "source": [
    "# read raw data from file\n",
    "raw_data = sc.textFile('my_restaurant_dataset4.csv')\n",
    "raw_data.take(10)"
   ]
  },
  {
   "cell_type": "code",
   "execution_count": 5,
   "id": "09382941",
   "metadata": {},
   "outputs": [
    {
     "data": {
      "text/plain": [
       "'userId,placeId,rating,cuisine,payment,smoker,ambience,transport,marital_status,job,budget'"
      ]
     },
     "execution_count": 5,
     "metadata": {},
     "output_type": "execute_result"
    }
   ],
   "source": [
    "# print column names\n",
    "header = raw_data.first()\n",
    "header"
   ]
  },
  {
   "cell_type": "code",
   "execution_count": 6,
   "id": "fbfb2211",
   "metadata": {},
   "outputs": [
    {
     "data": {
      "text/plain": [
       "['1.0,1.0,3.0,Italian,cash,false,family,public,single,student,low',\n",
       " '2.0,2.0,1.0,Moroccan,cash,false,solitary,on foot,single,student,medium',\n",
       " '3.0,3.0,5.0,Pizzeria,cash,false,friends,car owner,single,student,low',\n",
       " '4.0,4.0,5.0,Middle_Eastern,cash,false,family,on foot,single,student,medium',\n",
       " '5.0,5.0,4.0,Regional,cash,true,family,on foot,single,student,low',\n",
       " '6.0,6.0,5.0,Fast_Food,cash,false,family,public,single,student,medium',\n",
       " '7.0,7.0,1.0,Spanish,cash,false,solitary,on foot,single,student,low',\n",
       " '8.0,8.0,5.0,Chilean,cash,false,family,on foot,single,student,medium',\n",
       " '9.0,9.0,2.0,Continental-European,cash,false,family,public,single,student,medium',\n",
       " '10.0,10.0,2.0,Southeast_Asian,cash,false,family,public,single,student,low']"
      ]
     },
     "execution_count": 6,
     "metadata": {},
     "output_type": "execute_result"
    }
   ],
   "source": [
    "# remove column names from dataset\n",
    "rows = raw_data.filter(lambda line: line != header)\n",
    "rows.take(10)"
   ]
  },
  {
   "cell_type": "code",
   "execution_count": 9,
   "id": "ac0142fe",
   "metadata": {},
   "outputs": [
    {
     "data": {
      "text/plain": [
       "200000"
      ]
     },
     "execution_count": 9,
     "metadata": {},
     "output_type": "execute_result"
    }
   ],
   "source": [
    "rows.count()"
   ]
  },
  {
   "cell_type": "code",
   "execution_count": 10,
   "id": "f696346e",
   "metadata": {},
   "outputs": [
    {
     "data": {
      "text/plain": [
       "['1.0',\n",
       " '1.0',\n",
       " '3.0',\n",
       " 'Italian',\n",
       " 'cash',\n",
       " 'false',\n",
       " 'family',\n",
       " 'public',\n",
       " 'single',\n",
       " 'student',\n",
       " 'low']"
      ]
     },
     "execution_count": 10,
     "metadata": {},
     "output_type": "execute_result"
    }
   ],
   "source": [
    "# create field for future implementes\n",
    "rows_field = rows.map(lambda lines: lines.split(','))\n",
    "rows_field.first()"
   ]
  },
  {
   "cell_type": "code",
   "execution_count": 11,
   "id": "bc6644ff",
   "metadata": {},
   "outputs": [],
   "source": [
    "# get unique count of features\n",
    "unique_users = rows_field.map(lambda field: field[0]).distinct().count()\n",
    "unique_place = rows_field.map(lambda field: field[1]).distinct().count()\n",
    "unique_rating = rows_field.map(lambda field: field[2]).distinct().count()\n",
    "unique_cuisine = rows_field.map(lambda field: field[3]).distinct().count()\n",
    "unique_payment = rows_field.map(lambda field: field[4]).distinct().count()\n",
    "unique_smoker = rows_field.map(lambda field: field[5]).distinct().count()\n",
    "unique_ambience = rows_field.map(lambda field: field[6]).distinct().count()\n",
    "unique_transport = rows_field.map(lambda field: field[7]).distinct().count()\n",
    "unique_marital_status = rows_field.map(lambda field: field[8]).distinct().count()\n",
    "unique_job = rows_field.map(lambda field: field[9]).distinct().count()\n",
    "unique_budget = rows_field.map(lambda field: field[10]).distinct().count()"
   ]
  },
  {
   "cell_type": "code",
   "execution_count": 12,
   "id": "024973ad",
   "metadata": {},
   "outputs": [
    {
     "name": "stdout",
     "output_type": "stream",
     "text": [
      "unique users: 1000 \n",
      "unique place: 1000 \n",
      "unique rating: 5 \n",
      "unique cuisine: 101 \n",
      "unique payment: 5 \n",
      "unique smoker: 2 \n",
      "unique ambience: 3 \n",
      "unique transport: 3 \n",
      "unique marital status: 3 \n",
      "unique job: 4 \n",
      "unique budget: 3\n"
     ]
    }
   ],
   "source": [
    "print('unique users:',unique_users,'\\nunique place:',unique_place,'\\nunique rating:',unique_rating,\n",
    "     '\\nunique cuisine:',unique_cuisine,'\\nunique payment:',unique_payment,'\\nunique smoker:',unique_smoker,\n",
    "     '\\nunique ambience:',unique_ambience,'\\nunique transport:',unique_transport,'\\nunique marital status:',\n",
    "     unique_marital_status,'\\nunique job:',unique_job,'\\nunique budget:',unique_budget)"
   ]
  },
  {
   "cell_type": "code",
   "execution_count": 13,
   "id": "28dabc77",
   "metadata": {},
   "outputs": [],
   "source": [
    "import matplotlib.pyplot as plt"
   ]
  },
  {
   "cell_type": "code",
   "execution_count": 14,
   "id": "008e9e9a",
   "metadata": {},
   "outputs": [
    {
     "data": {
      "image/png": "[encoded data removed]",
      "text/plain": [
       "<Figure size 1008x648 with 1 Axes>"
      ]
     },
     "metadata": {
      "needs_background": "light"
     },
     "output_type": "display_data"
    }
   ],
   "source": [
    "# ratings plot\n",
    "ratings = rows_field.map(lambda x: str(x[2])).collect()\n",
    "plt.hist(ratings, bins=5, density=True)\n",
    "fig = plt.gcf()\n",
    "fig.set_size_inches(14,9)"
   ]
  },
  {
   "cell_type": "code",
   "execution_count": 15,
   "id": "7bd71c53",
   "metadata": {},
   "outputs": [
    {
     "data": {
      "image/png": "[encoded data removed]",
      "text/plain": [
       "<Figure size 1008x648 with 1 Axes>"
      ]
     },
     "metadata": {
      "needs_background": "light"
     },
     "output_type": "display_data"
    }
   ],
   "source": [
    "# payment plot\n",
    "payment = rows_field.map(lambda x: str(x[4])).collect()\n",
    "plt.hist(payment, bins=5, density=True)\n",
    "fig = plt.gcf()\n",
    "fig.set_size_inches(14,9)"
   ]
  },
  {
   "cell_type": "code",
   "execution_count": 16,
   "id": "db140eef",
   "metadata": {},
   "outputs": [
    {
     "data": {
      "image/png": "[encoded data removed]",
      "text/plain": [
       "<Figure size 1008x648 with 1 Axes>"
      ]
     },
     "metadata": {
      "needs_background": "light"
     },
     "output_type": "display_data"
    }
   ],
   "source": [
    "# smoker plot\n",
    "smoker = rows_field.map(lambda x: str(x[5])).collect()\n",
    "plt.hist(smoker, bins=2, density=True)\n",
    "fig = plt.gcf()\n",
    "fig.set_size_inches(14,9)"
   ]
  },
  {
   "cell_type": "code",
   "execution_count": 17,
   "id": "4822478c",
   "metadata": {},
   "outputs": [
    {
     "data": {
      "image/png": "[encoded data removed]",
      "text/plain": [
       "<Figure size 1008x648 with 1 Axes>"
      ]
     },
     "metadata": {
      "needs_background": "light"
     },
     "output_type": "display_data"
    }
   ],
   "source": [
    "# ambience plot\n",
    "ambience = rows_field.map(lambda x: str(x[6])).collect()\n",
    "plt.hist(ambience, bins=3, density=True)\n",
    "fig = plt.gcf()\n",
    "fig.set_size_inches(14,9)"
   ]
  },
  {
   "cell_type": "code",
   "execution_count": 18,
   "id": "23369e7f",
   "metadata": {},
   "outputs": [
    {
     "data": {
      "image/png": "[encoded data removed]",
      "text/plain": [
       "<Figure size 1008x648 with 1 Axes>"
      ]
     },
     "metadata": {
      "needs_background": "light"
     },
     "output_type": "display_data"
    }
   ],
   "source": [
    "# transport plot\n",
    "transport = rows_field.map(lambda x: str(x[7])).collect()\n",
    "plt.hist(transport, bins=3, density=True)\n",
    "fig = plt.gcf()\n",
    "fig.set_size_inches(14,9)"
   ]
  },
  {
   "cell_type": "code",
   "execution_count": 19,
   "id": "600a3b4f",
   "metadata": {},
   "outputs": [
    {
     "data": {
      "image/png": "[encoded data removed]",
      "text/plain": [
       "<Figure size 1008x648 with 1 Axes>"
      ]
     },
     "metadata": {
      "needs_background": "light"
     },
     "output_type": "display_data"
    }
   ],
   "source": [
    "# marital status plot\n",
    "marital_status = rows_field.map(lambda x: str(x[8])).collect()\n",
    "plt.hist(marital_status, bins=3, density=True)\n",
    "fig = plt.gcf()\n",
    "fig.set_size_inches(14,9)"
   ]
  },
  {
   "cell_type": "code",
   "execution_count": 20,
   "id": "8ebe53b4",
   "metadata": {},
   "outputs": [
    {
     "data": {
      "image/png": "[encoded data removed]",
      "text/plain": [
       "<Figure size 1008x648 with 1 Axes>"
      ]
     },
     "metadata": {
      "needs_background": "light"
     },
     "output_type": "display_data"
    }
   ],
   "source": [
    "# job plot\n",
    "job = rows_field.map(lambda x: str(x[9])).collect()\n",
    "plt.hist(job, bins=3, density=True)\n",
    "fig = plt.gcf()\n",
    "fig.set_size_inches(14,9)"
   ]
  },
  {
   "cell_type": "code",
   "execution_count": 21,
   "id": "3074eb40",
   "metadata": {},
   "outputs": [
    {
     "data": {
      "image/png": "[encoded data removed]",
      "text/plain": [
       "<Figure size 1008x648 with 1 Axes>"
      ]
     },
     "metadata": {
      "needs_background": "light"
     },
     "output_type": "display_data"
    }
   ],
   "source": [
    "# budget plot\n",
    "budget = rows_field.map(lambda x: str(x[10])).collect()\n",
    "plt.hist(budget, bins=3, density=True)\n",
    "fig = plt.gcf()\n",
    "fig.set_size_inches(14,9)"
   ]
  },
  {
   "cell_type": "code",
   "execution_count": 22,
   "id": "0317b79b",
   "metadata": {},
   "outputs": [
    {
     "data": {
      "text/plain": [
       "['1.0', '1.0', '3.0']"
      ]
     },
     "execution_count": 22,
     "metadata": {},
     "output_type": "execute_result"
    }
   ],
   "source": [
    "# select user id, place id and rating as rating data\n",
    "rating_data = rows_field.map(lambda x: [x[i] for i in [0,1,2]])\n",
    "rating_data.first()"
   ]
  },
  {
   "cell_type": "code",
   "execution_count": 23,
   "id": "cef5bc99",
   "metadata": {},
   "outputs": [],
   "source": [
    "from pyspark.mllib.recommendation import ALS\n",
    "from pyspark.mllib.recommendation import Rating"
   ]
  },
  {
   "cell_type": "code",
   "execution_count": 24,
   "id": "7d101d81",
   "metadata": {},
   "outputs": [],
   "source": [
    "# create rating class\n",
    "ratings = rating_data.map(lambda x: Rating(float(x[0]), float(x[1]), float(x[2])))"
   ]
  },
  {
   "cell_type": "code",
   "execution_count": 25,
   "id": "b64b74ac",
   "metadata": {},
   "outputs": [],
   "source": [
    "# split rating data to train and test\n",
    "(train_ratings, test_ratings) = ratings.randomSplit([0.7, 0.3])"
   ]
  },
  {
   "cell_type": "code",
   "execution_count": 26,
   "id": "cd20b16c",
   "metadata": {},
   "outputs": [
    {
     "data": {
      "text/plain": [
       "Rating(user=3, product=3, rating=5.0)"
      ]
     },
     "execution_count": 26,
     "metadata": {},
     "output_type": "execute_result"
    }
   ],
   "source": [
    "train_ratings.first()"
   ]
  },
  {
   "cell_type": "code",
   "execution_count": 27,
   "id": "90920d4b",
   "metadata": {},
   "outputs": [
    {
     "data": {
      "text/plain": [
       "Rating(user=1, product=1, rating=3.0)"
      ]
     },
     "execution_count": 27,
     "metadata": {},
     "output_type": "execute_result"
    }
   ],
   "source": [
    "test_ratings.first()"
   ]
  },
  {
   "cell_type": "code",
   "execution_count": 28,
   "id": "0c970d0b",
   "metadata": {},
   "outputs": [],
   "source": [
    "# split user-place id and ratings for training\n",
    "empty_ratings = test_ratings.map(lambda l: (float(l[0]), float(l[1])))\n",
    "true_ratings = test_ratings.map(lambda l: float(l[2]))"
   ]
  },
  {
   "cell_type": "code",
   "execution_count": 29,
   "id": "e9073edf",
   "metadata": {},
   "outputs": [
    {
     "data": {
      "text/plain": [
       "(1.0, 1.0)"
      ]
     },
     "execution_count": 29,
     "metadata": {},
     "output_type": "execute_result"
    }
   ],
   "source": [
    "empty_ratings.first()"
   ]
  },
  {
   "cell_type": "code",
   "execution_count": 30,
   "id": "fefe34a4",
   "metadata": {},
   "outputs": [
    {
     "data": {
      "text/plain": [
       "3.0"
      ]
     },
     "execution_count": 30,
     "metadata": {},
     "output_type": "execute_result"
    }
   ],
   "source": [
    "true_ratings.first()"
   ]
  },
  {
   "cell_type": "code",
   "execution_count": 31,
   "id": "1048b887",
   "metadata": {},
   "outputs": [],
   "source": [
    "def get_mse(a, b):\n",
    "    \"\"\" return mse score given to arrays \"\"\"\n",
    "    sum_ = 0\n",
    "    n = len(b)\n",
    "    for i in range(0,n):\n",
    "        diff = a[i] - b[i]\n",
    "        sq_diff = diff**2\n",
    "        sum_ = sum_ + sq_diff\n",
    "    mse = sum_/n\n",
    "    return mse"
   ]
  },
  {
   "cell_type": "code",
   "execution_count": 32,
   "id": "535a1bdb",
   "metadata": {},
   "outputs": [],
   "source": [
    "# parameters\n",
    "rank = [10,50,200]\n",
    "iterations = [10,50,200]\n",
    "lambda_ = [0.01, 0.1]"
   ]
  },
  {
   "cell_type": "code",
   "execution_count": 33,
   "id": "2648eb8e",
   "metadata": {},
   "outputs": [
    {
     "name": "stderr",
     "output_type": "stream",
     "text": [
      "22/01/18 21:19:53 WARN InstanceBuilder$NativeBLAS: Failed to load implementation from:dev.ludovic.netlib.blas.JNIBLAS\n",
      "22/01/18 21:19:53 WARN InstanceBuilder$NativeBLAS: Failed to load implementation from:dev.ludovic.netlib.blas.ForeignLinkerBLAS\n",
      "22/01/18 21:19:53 WARN InstanceBuilder$NativeLAPACK: Failed to load implementation from:dev.ludovic.netlib.lapack.JNILAPACK\n",
      "                                                                                \r"
     ]
    },
    {
     "name": "stdout",
     "output_type": "stream",
     "text": [
      "model 0 mse: 2.9397 rank: 10 iterations: 10 lambda_: 0.01\n",
      "model 1 mse: 2.4546 rank: 10 iterations: 10 lambda_: 0.1\n",
      "model 2 mse: 3.0264 rank: 10 iterations: 50 lambda_: 0.01\n",
      "model 3 mse: 2.4524 rank: 10 iterations: 50 lambda_: 0.1\n",
      "model 4 mse: 3.0519 rank: 10 iterations: 200 lambda_: 0.01\n",
      "model 5 mse: 2.4523 rank: 10 iterations: 200 lambda_: 0.1\n",
      "model 6 mse: 4.0791 rank: 50 iterations: 10 lambda_: 0.01\n",
      "model 7 mse: 2.5068 rank: 50 iterations: 10 lambda_: 0.1\n",
      "model 8 mse: 4.2958 rank: 50 iterations: 50 lambda_: 0.01\n",
      "model 9 mse: 2.5068 rank: 50 iterations: 50 lambda_: 0.1\n",
      "model 10 mse: 4.3120 rank: 50 iterations: 200 lambda_: 0.01\n",
      "model 11 mse: 2.5079 rank: 50 iterations: 200 lambda_: 0.1\n"
     ]
    },
    {
     "name": "stderr",
     "output_type": "stream",
     "text": [
      "                                                                                \r"
     ]
    },
    {
     "name": "stdout",
     "output_type": "stream",
     "text": [
      "model 12 mse: 3.5020 rank: 200 iterations: 10 lambda_: 0.01\n"
     ]
    },
    {
     "name": "stderr",
     "output_type": "stream",
     "text": [
      "                                                                                \r"
     ]
    },
    {
     "name": "stdout",
     "output_type": "stream",
     "text": [
      "model 13 mse: 2.4797 rank: 200 iterations: 10 lambda_: 0.1\n"
     ]
    },
    {
     "name": "stderr",
     "output_type": "stream",
     "text": [
      "                                                                                \r"
     ]
    },
    {
     "name": "stdout",
     "output_type": "stream",
     "text": [
      "model 14 mse: 3.2437 rank: 200 iterations: 50 lambda_: 0.01\n"
     ]
    },
    {
     "name": "stderr",
     "output_type": "stream",
     "text": [
      "                                                                                \r"
     ]
    },
    {
     "name": "stdout",
     "output_type": "stream",
     "text": [
      "model 15 mse: 2.4768 rank: 200 iterations: 50 lambda_: 0.1\n"
     ]
    },
    {
     "name": "stderr",
     "output_type": "stream",
     "text": [
      "                                                                                \r"
     ]
    },
    {
     "name": "stdout",
     "output_type": "stream",
     "text": [
      "model 16 mse: 3.2034 rank: 200 iterations: 200 lambda_: 0.01\n"
     ]
    },
    {
     "name": "stderr",
     "output_type": "stream",
     "text": [
      "                                                                                \r"
     ]
    },
    {
     "name": "stdout",
     "output_type": "stream",
     "text": [
      "model 17 mse: 2.4769 rank: 200 iterations: 200 lambda_: 0.1\n"
     ]
    }
   ],
   "source": [
    "# try 18 models to select best model\n",
    "true_ratings = true_ratings.collect()\n",
    "n = 0\n",
    "mse_list = []\n",
    "for i in rank:\n",
    "        for j in iterations:\n",
    "            for k in lambda_:\n",
    "                model = ALS.train(train_ratings, rank=i, iterations=j, lambda_=k, seed=5057)\n",
    "                predictions = model.predictAll(empty_ratings)\n",
    "                only_preds = predictions.map(lambda l: float(l[2]))\n",
    "                only_preds = only_preds.collect()\n",
    "                mse = get_mse(true_ratings, only_preds)\n",
    "                print('model',n,'mse:', '{:.4f}'.format(mse), 'rank:', i, 'iterations:', j, 'lambda_:', k)\n",
    "                mse_list.append(mse)\n",
    "                n += 1"
   ]
  },
  {
   "cell_type": "code",
   "execution_count": 34,
   "id": "3fcb9917",
   "metadata": {},
   "outputs": [
    {
     "name": "stdout",
     "output_type": "stream",
     "text": [
      "best mse : 2.4522764198521037 model: 5\n"
     ]
    }
   ],
   "source": [
    "print('best mse :',min(mse_list),'model:',mse_list.index(min(mse_list)))"
   ]
  },
  {
   "cell_type": "code",
   "execution_count": 35,
   "id": "54ad3fb9",
   "metadata": {},
   "outputs": [
    {
     "data": {
      "text/plain": [
       "Rating(user=656, product=672, rating=3.1519196646969854)"
      ]
     },
     "execution_count": 35,
     "metadata": {},
     "output_type": "execute_result"
    }
   ],
   "source": [
    "# train again model with best parameters\n",
    "model = ALS.train(train_ratings, rank=10, iterations=200, lambda_=0.1, seed=5057)\n",
    "predictions = model.predictAll(empty_ratings)\n",
    "predictions.first()"
   ]
  },
  {
   "cell_type": "code",
   "execution_count": 36,
   "id": "ea42f4db",
   "metadata": {},
   "outputs": [
    {
     "data": {
      "text/plain": [
       "[3.1519196646969854,\n",
       " 2.517059283906404,\n",
       " 2.947689411918529,\n",
       " 3.442046525358215,\n",
       " 2.1468030888897864,\n",
       " 3.244271174149625,\n",
       " 2.8366748407874827,\n",
       " 2.5231570657169127,\n",
       " 3.2362842531057625,\n",
       " 2.726397145577555]"
      ]
     },
     "execution_count": 36,
     "metadata": {},
     "output_type": "execute_result"
    }
   ],
   "source": [
    "# select pred rating column as new variable\n",
    "only_preds = predictions.map(lambda l: float(l[2]))\n",
    "only_preds.take(10)"
   ]
  },
  {
   "cell_type": "code",
   "execution_count": 37,
   "id": "f2bee264",
   "metadata": {},
   "outputs": [],
   "source": [
    "# convert list for calculate mse\n",
    "only_preds = only_preds.collect()"
   ]
  },
  {
   "cell_type": "code",
   "execution_count": 38,
   "id": "58439ff8",
   "metadata": {},
   "outputs": [],
   "source": [
    "def single_pred(user_id, place_id):\n",
    "    \"\"\" return single pred rating for given user_id and place_id\"\"\"\n",
    "    pred = model.predict(user_id, place_id)\n",
    "    return pred"
   ]
  },
  {
   "cell_type": "code",
   "execution_count": 39,
   "id": "d0c58867",
   "metadata": {},
   "outputs": [
    {
     "data": {
      "text/plain": [
       "2.6069173906969785"
      ]
     },
     "execution_count": 39,
     "metadata": {},
     "output_type": "execute_result"
    }
   ],
   "source": [
    "# example of single_pred\n",
    "single_pred(876, 600)"
   ]
  },
  {
   "cell_type": "code",
   "execution_count": 40,
   "id": "21675bf9",
   "metadata": {},
   "outputs": [],
   "source": [
    "def top_k_pred_for_user(user_id, k):\n",
    "    \"\"\" print top k recommendation for given user_id \"\"\"\n",
    "    top_k_recs = model.recommendProducts(user_id, k)\n",
    "    for i in top_k_recs:\n",
    "        print(i)"
   ]
  },
  {
   "cell_type": "code",
   "execution_count": 41,
   "id": "5c088134",
   "metadata": {},
   "outputs": [
    {
     "name": "stdout",
     "output_type": "stream",
     "text": [
      "Rating(user=900, product=42, rating=4.588126770329151)\n",
      "Rating(user=900, product=47, rating=4.586575946359149)\n",
      "Rating(user=900, product=267, rating=4.5143515145182125)\n",
      "Rating(user=900, product=12, rating=4.510246780567088)\n",
      "Rating(user=900, product=154, rating=4.390831900134133)\n",
      "Rating(user=900, product=36, rating=4.346280140925327)\n",
      "Rating(user=900, product=37, rating=4.276426078096483)\n",
      "Rating(user=900, product=84, rating=4.269056927311655)\n",
      "Rating(user=900, product=29, rating=4.261173947143103)\n",
      "Rating(user=900, product=31, rating=4.202570414191805)\n"
     ]
    }
   ],
   "source": [
    "# example of top_k_pred_for_user\n",
    "top_k_pred_for_user(900, 10)"
   ]
  },
  {
   "cell_type": "code",
   "execution_count": 42,
   "id": "3d6ffabd",
   "metadata": {},
   "outputs": [],
   "source": [
    "def top_k_pred_for_place(place_id, k):\n",
    "    \"\"\" print top k recommendation for given place_id \"\"\"\n",
    "    top_k_item = model.recommendUsers(place_id, k)\n",
    "    for i in top_k_item:\n",
    "        print(i)"
   ]
  },
  {
   "cell_type": "code",
   "execution_count": 43,
   "id": "96e28d5f",
   "metadata": {},
   "outputs": [
    {
     "name": "stdout",
     "output_type": "stream",
     "text": [
      "Rating(user=246, product=800, rating=5.0680938849522805)\n",
      "Rating(user=41, product=800, rating=4.809786749420186)\n",
      "Rating(user=124, product=800, rating=4.725628001264819)\n",
      "Rating(user=158, product=800, rating=4.72513906469725)\n",
      "Rating(user=340, product=800, rating=4.68854984779244)\n",
      "Rating(user=392, product=800, rating=4.644993008866853)\n",
      "Rating(user=101, product=800, rating=4.626210070985677)\n",
      "Rating(user=261, product=800, rating=4.616589473360835)\n",
      "Rating(user=270, product=800, rating=4.61361076342825)\n",
      "Rating(user=207, product=800, rating=4.5336697383963465)\n"
     ]
    }
   ],
   "source": [
    "# example of top_k_pred_for_place\n",
    "top_k_pred_for_place(800, 10)"
   ]
  },
  {
   "cell_type": "code",
   "execution_count": 44,
   "id": "a59c7304",
   "metadata": {},
   "outputs": [],
   "source": [
    "def get_place_vector(place_id):\n",
    "    \"\"\" return place_id vector for calculat similarity \"\"\"\n",
    "    place_id = model.productFeatures().lookup(place_id)[0]\n",
    "    return place_id"
   ]
  },
  {
   "cell_type": "code",
   "execution_count": 45,
   "id": "48f08846",
   "metadata": {},
   "outputs": [
    {
     "data": {
      "text/plain": [
       "array('d', [-0.25182652473449707, -0.6651194095611572, -0.40186095237731934, -0.848292887210846, 0.1785362809896469, -0.8281247615814209, 0.7611637711524963, 0.14277802407741547, -0.15653067827224731, -0.6467002630233765])"
      ]
     },
     "execution_count": 45,
     "metadata": {},
     "output_type": "execute_result"
    }
   ],
   "source": [
    "# vector example\n",
    "get_place_vector(888)"
   ]
  },
  {
   "cell_type": "code",
   "execution_count": 46,
   "id": "2f4f7e73",
   "metadata": {},
   "outputs": [],
   "source": [
    "def get_place_for_user(user_id):\n",
    "    \"\"\" return single user had visited restaurants before and sort by rating \"\"\"\n",
    "    place_for_user = ratings.keyBy(lambda x: x.user).lookup(user_id)\n",
    "    place_for_user.sort(reverse = True, key = lambda x: x.rating)\n",
    "    return place_for_user"
   ]
  },
  {
   "cell_type": "code",
   "execution_count": 47,
   "id": "f891b187",
   "metadata": {},
   "outputs": [
    {
     "data": {
      "text/plain": [
       "[([986], 5.0),\n",
       " ([678], 5.0),\n",
       " ([1000], 5.0),\n",
       " ([977], 5.0),\n",
       " ([985], 5.0),\n",
       " ([947], 5.0),\n",
       " ([829], 5.0),\n",
       " ([810], 5.0),\n",
       " ([851], 5.0),\n",
       " ([575], 5.0)]"
      ]
     },
     "execution_count": 47,
     "metadata": {},
     "output_type": "execute_result"
    }
   ],
   "source": [
    "# example of get_place_for_user\n",
    "place_for_user = get_place_for_user(600)\n",
    "sc.parallelize(place_for_user[:10]).map(lambda rating: ([rating.product], rating.rating)).collect()"
   ]
  },
  {
   "cell_type": "code",
   "execution_count": 48,
   "id": "8baa7766",
   "metadata": {},
   "outputs": [],
   "source": [
    "import numpy as np\n",
    "def cosine_sim(place_id, a, b):\n",
    "    \"\"\" return cosine similarity between a and b \"\"\"\n",
    "    dot = np.dot(a, b)\n",
    "    norm_a = np.linalg.norm(a)\n",
    "    norm_b = np.linalg.norm(b)\n",
    "    cos = dot / (norm_a * norm_b)\n",
    "    return place_id, cos"
   ]
  },
  {
   "cell_type": "code",
   "execution_count": 49,
   "id": "7111aad5",
   "metadata": {},
   "outputs": [],
   "source": [
    "def get_sims(place_id, k):\n",
    "    \"\"\" return similarity rate using cosine_sim \"\"\"\n",
    "    place_vector = model.productFeatures().lookup(place_id)[0]\n",
    "    sims = model.productFeatures().map(lambda data: cosine_sim(data[0], data[1], place_vector))\n",
    "    return sims.top(k, key=lambda x: x[1])"
   ]
  },
  {
   "cell_type": "code",
   "execution_count": 50,
   "id": "2a77a980",
   "metadata": {},
   "outputs": [
    {
     "data": {
      "text/plain": [
       "[(961, 0.9999999999999999),\n",
       " (987, 0.9689885477908693),\n",
       " (971, 0.9647221125214167),\n",
       " (659, 0.9596487331914061),\n",
       " (981, 0.956937570960854),\n",
       " (881, 0.9548052201331729),\n",
       " (993, 0.9526155067518188),\n",
       " (866, 0.9486796967739428),\n",
       " (724, 0.948431720721606),\n",
       " (1000, 0.9472787032489044)]"
      ]
     },
     "execution_count": 50,
     "metadata": {},
     "output_type": "execute_result"
    }
   ],
   "source": [
    "get_sims(961, 10)"
   ]
  },
  {
   "cell_type": "code",
   "execution_count": 108,
   "id": "610856df",
   "metadata": {},
   "outputs": [],
   "source": [
    "import pandas as pd\n",
    "def top_k_recs_with_infos(user_id, k):\n",
    "    \"\"\" print k restaurant for user with restaurant info \"\"\"\n",
    "    recs_list = []\n",
    "    df = pd.read_csv('my_restaurant_dataset4.csv')\n",
    "    top_k_recs = model.recommendProducts(user_id, k)\n",
    "    for i in range(k):\n",
    "        cuisine = df.loc[df['placeId'] == top_k_recs[i][1], 'cuisine'].values[0]\n",
    "        payment = df.loc[df['placeId'] == top_k_recs[i][1], 'payment'].values[0]\n",
    "        recs_list.append((top_k_recs[i][0], top_k_recs[i][1], top_k_recs[i][2], cuisine, payment))\n",
    "    for i in recs_list:\n",
    "        print(i,'\\n')"
   ]
  },
  {
   "cell_type": "code",
   "execution_count": 111,
   "id": "7dd196d4",
   "metadata": {},
   "outputs": [
    {
     "name": "stdout",
     "output_type": "stream",
     "text": [
      "(661, 348, 5.028717952832752, 'Hawaiian', 'cash') \n",
      "\n",
      "(661, 12, 4.775743822416035, 'Brazilian', 'cash') \n",
      "\n",
      "(661, 295, 4.679387772482622, 'Regional', 'VISA') \n",
      "\n",
      "(661, 29, 4.674288472004906, 'Deli-Sandwiches', 'cash') \n",
      "\n",
      "(661, 114, 4.575737555476283, 'Mexican', 'cash') \n",
      "\n",
      "(661, 190, 4.551108000875444, 'Soup', 'cash') \n",
      "\n",
      "(661, 47, 4.5414751732964795, 'Mexican', 'cash') \n",
      "\n",
      "(661, 312, 4.532977049923506, 'Sushi', 'cash') \n",
      "\n",
      "(661, 222, 4.529479718539882, 'Mexican', 'cash') \n",
      "\n",
      "(661, 133, 4.528361149739978, 'Italian', 'VISA') \n",
      "\n"
     ]
    }
   ],
   "source": [
    "top_k_recs_with_infos(661, 10)"
   ]
  },
  {
   "cell_type": "code",
   "execution_count": 122,
   "id": "07b1ba9a",
   "metadata": {},
   "outputs": [],
   "source": [
    "def top_k_user_with_infos(place_id, k):\n",
    "    \"\"\" print k users for restaurant with user info \"\"\"\n",
    "    recs_list = []\n",
    "    df = pd.read_csv('my_restaurant_dataset4.csv')\n",
    "    top_k_item = model.recommendUsers(place_id, k)\n",
    "    for i in range(k):\n",
    "        smoker = df.loc[df['userId'] == top_k_item[i][0], 'smoker'].values[0]\n",
    "        marital_status = df.loc[df['userId'] == top_k_item[i][0], 'marital_status'].values[0]\n",
    "        job = df.loc[df['userId'] == top_k_item[i][0], 'job'].values[0]\n",
    "        budget = df.loc[df['userId'] == top_k_item[i][0], 'budget'].values[0]\n",
    "        recs_list.append((top_k_item[i][0], top_k_item[i][1], top_k_item[i][2], smoker, marital_status, \n",
    "                          job, budget))\n",
    "    for i in recs_list:\n",
    "        print(i,'\\n')"
   ]
  },
  {
   "cell_type": "code",
   "execution_count": 123,
   "id": "dc1322a1",
   "metadata": {},
   "outputs": [
    {
     "name": "stdout",
     "output_type": "stream",
     "text": [
      "(158, 600, 4.62806245548868, False, 'single', 'professional', 'low') \n",
      "\n",
      "(196, 600, 4.556939481979307, False, 'single', 'student', 'low') \n",
      "\n",
      "(200, 600, 4.504924499431705, False, 'married', 'student', 'low') \n",
      "\n",
      "(416, 600, 4.4366708455720945, True, 'single', 'student', 'medium') \n",
      "\n",
      "(15, 600, 4.369137918525347, False, 'single', 'professional', 'medium') \n",
      "\n",
      "(154, 600, 4.325976245332659, False, 'single', 'student', 'medium') \n",
      "\n",
      "(118, 600, 4.273192548355846, False, 'single', 'student', 'low') \n",
      "\n",
      "(41, 600, 4.209121571401969, False, 'single', 'student', 'low') \n",
      "\n",
      "(286, 600, 4.187198894318577, False, 'single', 'professional', 'medium') \n",
      "\n",
      "(148, 600, 4.1787227779240155, False, 'single', 'student', 'low') \n",
      "\n"
     ]
    }
   ],
   "source": [
    "top_k_user_with_infos(600, 10)"
   ]
  },
  {
   "cell_type": "code",
   "execution_count": null,
   "id": "83bb868e",
   "metadata": {},
   "outputs": [],
   "source": []
  }
 ],
 "metadata": {
  "kernelspec": {
   "display_name": "Python 3 (ipykernel)",
   "language": "python",
   "name": "python3"
  },
  "language_info": {
   "codemirror_mode": {
    "name": "ipython",
    "version": 3
   },
   "file_extension": ".py",
   "mimetype": "text/x-python",
   "name": "python",
   "nbconvert_exporter": "python",
   "pygments_lexer": "ipython3",
   "version": "3.9.9"
  }
 },
 "nbformat": 4,
 "nbformat_minor": 5
}
