{
 "cells": [
  {
   "cell_type": "code",
   "execution_count": 1,
   "id": "0cbc075f",
   "metadata": {},
   "outputs": [
    {
     "name": "stderr",
     "output_type": "stream",
     "text": [
      "22/01/16 22:51:57 WARN Utils: Your hostname, Furkans-MacBook-Air.local resolves to a loopback address: 127.0.0.1; using 192.168.1.37 instead (on interface en0)\n",
      "22/01/16 22:51:57 WARN Utils: Set SPARK_LOCAL_IP if you need to bind to another address\n",
      "Using Spark's default log4j profile: org/apache/spark/log4j-defaults.properties\n",
      "Setting default log level to \"WARN\".\n",
      "To adjust logging level use sc.setLogLevel(newLevel). For SparkR, use setLogLevel(newLevel).\n",
      "22/01/16 22:51:57 WARN NativeCodeLoader: Unable to load native-hadoop library for your platform... using builtin-java classes where applicable\n",
      "22/01/16 22:51:57 WARN Utils: Service 'SparkUI' could not bind on port 4040. Attempting port 4041.\n"
     ]
    }
   ],
   "source": [
    "import utils\n",
    "from pyspark.sql import SparkSession\n",
    "from pyspark.ml.recommendation import ALS\n",
    "spark = SparkSession.builder.master(\"local[4]\").appName(\"Restaurant Recommender\").getOrCreate()\n",
    "sc = spark.sparkContext\n",
    "sc.setCheckpointDir('checkpoint')"
   ]
  },
  {
   "cell_type": "code",
   "execution_count": 2,
   "id": "4cd0fea8",
   "metadata": {},
   "outputs": [
    {
     "data": {
      "text/html": [
       "<div>\n",
       "<style scoped>\n",
       "    .dataframe tbody tr th:only-of-type {\n",
       "        vertical-align: middle;\n",
       "    }\n",
       "\n",
       "    .dataframe tbody tr th {\n",
       "        vertical-align: top;\n",
       "    }\n",
       "\n",
       "    .dataframe thead th {\n",
       "        text-align: right;\n",
       "    }\n",
       "</style>\n",
       "<table border=\"1\" class=\"dataframe\">\n",
       "  <thead>\n",
       "    <tr style=\"text-align: right;\">\n",
       "      <th></th>\n",
       "      <th>userId</th>\n",
       "      <th>placeId</th>\n",
       "      <th>rating</th>\n",
       "      <th>cuisine</th>\n",
       "      <th>payment</th>\n",
       "      <th>smoker</th>\n",
       "      <th>ambience</th>\n",
       "      <th>transport</th>\n",
       "      <th>marital_status</th>\n",
       "      <th>job</th>\n",
       "      <th>budget</th>\n",
       "    </tr>\n",
       "  </thead>\n",
       "  <tbody>\n",
       "    <tr>\n",
       "      <th>0</th>\n",
       "      <td>1.0</td>\n",
       "      <td>1.0</td>\n",
       "      <td>1.0</td>\n",
       "      <td>Family</td>\n",
       "      <td>cash</td>\n",
       "      <td>false</td>\n",
       "      <td>family</td>\n",
       "      <td>public</td>\n",
       "      <td>single</td>\n",
       "      <td>student</td>\n",
       "      <td>medium</td>\n",
       "    </tr>\n",
       "    <tr>\n",
       "      <th>1</th>\n",
       "      <td>2.0</td>\n",
       "      <td>2.0</td>\n",
       "      <td>1.0</td>\n",
       "      <td>Chilean</td>\n",
       "      <td>cash</td>\n",
       "      <td>true</td>\n",
       "      <td>family</td>\n",
       "      <td>on foot</td>\n",
       "      <td>married</td>\n",
       "      <td>student</td>\n",
       "      <td>medium</td>\n",
       "    </tr>\n",
       "    <tr>\n",
       "      <th>2</th>\n",
       "      <td>3.0</td>\n",
       "      <td>3.0</td>\n",
       "      <td>3.0</td>\n",
       "      <td>Mexican</td>\n",
       "      <td>cash</td>\n",
       "      <td>true</td>\n",
       "      <td>family</td>\n",
       "      <td>on foot</td>\n",
       "      <td>single</td>\n",
       "      <td>student</td>\n",
       "      <td>medium</td>\n",
       "    </tr>\n",
       "    <tr>\n",
       "      <th>3</th>\n",
       "      <td>4.0</td>\n",
       "      <td>4.0</td>\n",
       "      <td>4.0</td>\n",
       "      <td>Chinese</td>\n",
       "      <td>cash</td>\n",
       "      <td>false</td>\n",
       "      <td>family</td>\n",
       "      <td>on foot</td>\n",
       "      <td>single</td>\n",
       "      <td>student</td>\n",
       "      <td>medium</td>\n",
       "    </tr>\n",
       "    <tr>\n",
       "      <th>4</th>\n",
       "      <td>5.0</td>\n",
       "      <td>5.0</td>\n",
       "      <td>5.0</td>\n",
       "      <td>Italian</td>\n",
       "      <td>VISA</td>\n",
       "      <td>false</td>\n",
       "      <td>solitary</td>\n",
       "      <td>on foot</td>\n",
       "      <td>single</td>\n",
       "      <td>student</td>\n",
       "      <td>low</td>\n",
       "    </tr>\n",
       "    <tr>\n",
       "      <th>...</th>\n",
       "      <td>...</td>\n",
       "      <td>...</td>\n",
       "      <td>...</td>\n",
       "      <td>...</td>\n",
       "      <td>...</td>\n",
       "      <td>...</td>\n",
       "      <td>...</td>\n",
       "      <td>...</td>\n",
       "      <td>...</td>\n",
       "      <td>...</td>\n",
       "      <td>...</td>\n",
       "    </tr>\n",
       "    <tr>\n",
       "      <th>39995</th>\n",
       "      <td>1000.0</td>\n",
       "      <td>382.0</td>\n",
       "      <td>5.0</td>\n",
       "      <td>Portuguese</td>\n",
       "      <td>cash</td>\n",
       "      <td>false</td>\n",
       "      <td>family</td>\n",
       "      <td>car owner</td>\n",
       "      <td>single</td>\n",
       "      <td>student</td>\n",
       "      <td>low</td>\n",
       "    </tr>\n",
       "    <tr>\n",
       "      <th>39996</th>\n",
       "      <td>1000.0</td>\n",
       "      <td>978.0</td>\n",
       "      <td>2.0</td>\n",
       "      <td>Seafood</td>\n",
       "      <td>cash</td>\n",
       "      <td>false</td>\n",
       "      <td>solitary</td>\n",
       "      <td>on foot</td>\n",
       "      <td>single</td>\n",
       "      <td>student</td>\n",
       "      <td>low</td>\n",
       "    </tr>\n",
       "    <tr>\n",
       "      <th>39997</th>\n",
       "      <td>1000.0</td>\n",
       "      <td>687.0</td>\n",
       "      <td>2.0</td>\n",
       "      <td>Mexican</td>\n",
       "      <td>cash</td>\n",
       "      <td>false</td>\n",
       "      <td>family</td>\n",
       "      <td>on foot</td>\n",
       "      <td>single</td>\n",
       "      <td>student</td>\n",
       "      <td>low</td>\n",
       "    </tr>\n",
       "    <tr>\n",
       "      <th>39998</th>\n",
       "      <td>1000.0</td>\n",
       "      <td>782.0</td>\n",
       "      <td>2.0</td>\n",
       "      <td>Portuguese</td>\n",
       "      <td>cash</td>\n",
       "      <td>false</td>\n",
       "      <td>family</td>\n",
       "      <td>on foot</td>\n",
       "      <td>single</td>\n",
       "      <td>student</td>\n",
       "      <td>low</td>\n",
       "    </tr>\n",
       "    <tr>\n",
       "      <th>39999</th>\n",
       "      <td>1000.0</td>\n",
       "      <td>850.0</td>\n",
       "      <td>5.0</td>\n",
       "      <td>Mexican</td>\n",
       "      <td>cash</td>\n",
       "      <td>false</td>\n",
       "      <td>family</td>\n",
       "      <td>on foot</td>\n",
       "      <td>single</td>\n",
       "      <td>student</td>\n",
       "      <td>low</td>\n",
       "    </tr>\n",
       "  </tbody>\n",
       "</table>\n",
       "<p>40000 rows × 11 columns</p>\n",
       "</div>"
      ],
      "text/plain": [
       "       userId placeId rating     cuisine payment smoker  ambience  transport  \\\n",
       "0         1.0     1.0    1.0      Family    cash  false    family     public   \n",
       "1         2.0     2.0    1.0     Chilean    cash   true    family    on foot   \n",
       "2         3.0     3.0    3.0     Mexican    cash   true    family    on foot   \n",
       "3         4.0     4.0    4.0     Chinese    cash  false    family    on foot   \n",
       "4         5.0     5.0    5.0     Italian    VISA  false  solitary    on foot   \n",
       "...       ...     ...    ...         ...     ...    ...       ...        ...   \n",
       "39995  1000.0   382.0    5.0  Portuguese    cash  false    family  car owner   \n",
       "39996  1000.0   978.0    2.0     Seafood    cash  false  solitary    on foot   \n",
       "39997  1000.0   687.0    2.0     Mexican    cash  false    family    on foot   \n",
       "39998  1000.0   782.0    2.0  Portuguese    cash  false    family    on foot   \n",
       "39999  1000.0   850.0    5.0     Mexican    cash  false    family    on foot   \n",
       "\n",
       "      marital_status      job  budget  \n",
       "0             single  student  medium  \n",
       "1            married  student  medium  \n",
       "2             single  student  medium  \n",
       "3             single  student  medium  \n",
       "4             single  student     low  \n",
       "...              ...      ...     ...  \n",
       "39995         single  student     low  \n",
       "39996         single  student     low  \n",
       "39997         single  student     low  \n",
       "39998         single  student     low  \n",
       "39999         single  student     low  \n",
       "\n",
       "[40000 rows x 11 columns]"
      ]
     },
     "execution_count": 2,
     "metadata": {},
     "output_type": "execute_result"
    }
   ],
   "source": [
    "raw_df = spark.read.option(\"header\", \"true\").csv(\"new_df.csv\")\n",
    "raw_df = raw_df.selectExpr(\"userId\", \"placeId\", \"rating\", \"cuisine\", \"payment\", \"smoker\", \"ambience\", \"transport\", \"marital_status\", \"job\", \"budget\")\n",
    "raw_df.toPandas()"
   ]
  },
  {
   "cell_type": "code",
   "execution_count": 3,
   "id": "90060300",
   "metadata": {},
   "outputs": [
    {
     "data": {
      "text/html": [
       "<div>\n",
       "<style scoped>\n",
       "    .dataframe tbody tr th:only-of-type {\n",
       "        vertical-align: middle;\n",
       "    }\n",
       "\n",
       "    .dataframe tbody tr th {\n",
       "        vertical-align: top;\n",
       "    }\n",
       "\n",
       "    .dataframe thead th {\n",
       "        text-align: right;\n",
       "    }\n",
       "</style>\n",
       "<table border=\"1\" class=\"dataframe\">\n",
       "  <thead>\n",
       "    <tr style=\"text-align: right;\">\n",
       "      <th></th>\n",
       "      <th>userId</th>\n",
       "      <th>placeId</th>\n",
       "      <th>rating</th>\n",
       "    </tr>\n",
       "  </thead>\n",
       "  <tbody>\n",
       "    <tr>\n",
       "      <th>0</th>\n",
       "      <td>1.0</td>\n",
       "      <td>1.0</td>\n",
       "      <td>1.0</td>\n",
       "    </tr>\n",
       "    <tr>\n",
       "      <th>1</th>\n",
       "      <td>2.0</td>\n",
       "      <td>2.0</td>\n",
       "      <td>1.0</td>\n",
       "    </tr>\n",
       "    <tr>\n",
       "      <th>2</th>\n",
       "      <td>3.0</td>\n",
       "      <td>3.0</td>\n",
       "      <td>3.0</td>\n",
       "    </tr>\n",
       "    <tr>\n",
       "      <th>3</th>\n",
       "      <td>4.0</td>\n",
       "      <td>4.0</td>\n",
       "      <td>4.0</td>\n",
       "    </tr>\n",
       "    <tr>\n",
       "      <th>4</th>\n",
       "      <td>5.0</td>\n",
       "      <td>5.0</td>\n",
       "      <td>5.0</td>\n",
       "    </tr>\n",
       "    <tr>\n",
       "      <th>...</th>\n",
       "      <td>...</td>\n",
       "      <td>...</td>\n",
       "      <td>...</td>\n",
       "    </tr>\n",
       "    <tr>\n",
       "      <th>39995</th>\n",
       "      <td>1000.0</td>\n",
       "      <td>382.0</td>\n",
       "      <td>5.0</td>\n",
       "    </tr>\n",
       "    <tr>\n",
       "      <th>39996</th>\n",
       "      <td>1000.0</td>\n",
       "      <td>978.0</td>\n",
       "      <td>2.0</td>\n",
       "    </tr>\n",
       "    <tr>\n",
       "      <th>39997</th>\n",
       "      <td>1000.0</td>\n",
       "      <td>687.0</td>\n",
       "      <td>2.0</td>\n",
       "    </tr>\n",
       "    <tr>\n",
       "      <th>39998</th>\n",
       "      <td>1000.0</td>\n",
       "      <td>782.0</td>\n",
       "      <td>2.0</td>\n",
       "    </tr>\n",
       "    <tr>\n",
       "      <th>39999</th>\n",
       "      <td>1000.0</td>\n",
       "      <td>850.0</td>\n",
       "      <td>5.0</td>\n",
       "    </tr>\n",
       "  </tbody>\n",
       "</table>\n",
       "<p>40000 rows × 3 columns</p>\n",
       "</div>"
      ],
      "text/plain": [
       "       userId placeId rating\n",
       "0         1.0     1.0    1.0\n",
       "1         2.0     2.0    1.0\n",
       "2         3.0     3.0    3.0\n",
       "3         4.0     4.0    4.0\n",
       "4         5.0     5.0    5.0\n",
       "...       ...     ...    ...\n",
       "39995  1000.0   382.0    5.0\n",
       "39996  1000.0   978.0    2.0\n",
       "39997  1000.0   687.0    2.0\n",
       "39998  1000.0   782.0    2.0\n",
       "39999  1000.0   850.0    5.0\n",
       "\n",
       "[40000 rows x 3 columns]"
      ]
     },
     "execution_count": 3,
     "metadata": {},
     "output_type": "execute_result"
    }
   ],
   "source": [
    "rating_df = raw_df.selectExpr(\"userId\",\"placeId\",\"rating\")\n",
    "rating_df.toPandas()"
   ]
  },
  {
   "cell_type": "code",
   "execution_count": 4,
   "id": "9b1c5e43",
   "metadata": {},
   "outputs": [],
   "source": [
    "from pyspark.sql.functions import col\n",
    "rating_df = rating_df.select(col('userId').cast('int'),col('placeId').cast('int'),col('rating').cast('int'))"
   ]
  },
  {
   "cell_type": "code",
   "execution_count": 5,
   "id": "b3932f8f",
   "metadata": {},
   "outputs": [],
   "source": [
    "(train, test) = rating_df.randomSplit([0.7,0.3])"
   ]
  },
  {
   "cell_type": "code",
   "execution_count": 6,
   "id": "04f81989",
   "metadata": {},
   "outputs": [],
   "source": [
    "rank = [10,50,200]\n",
    "maxIter = [10,25,50]\n",
    "regParam = [0.01, 0.1] # lambda\n",
    "model_list = []"
   ]
  },
  {
   "cell_type": "code",
   "execution_count": 7,
   "id": "348ffd0b",
   "metadata": {},
   "outputs": [
    {
     "name": "stderr",
     "output_type": "stream",
     "text": [
      "22/01/16 22:52:10 WARN InstanceBuilder$NativeBLAS: Failed to load implementation from:dev.ludovic.netlib.blas.JNIBLAS\n",
      "22/01/16 22:52:10 WARN InstanceBuilder$NativeBLAS: Failed to load implementation from:dev.ludovic.netlib.blas.ForeignLinkerBLAS\n",
      "22/01/16 22:52:10 WARN InstanceBuilder$NativeLAPACK: Failed to load implementation from:dev.ludovic.netlib.lapack.JNILAPACK\n"
     ]
    },
    {
     "name": "stdout",
     "output_type": "stream",
     "text": [
      "rmse: 2.2854 rank: 10 maxIter: 10 regParam: 0.01\n",
      "rmse: 1.7821 rank: 10 maxIter: 10 regParam: 0.1\n",
      "rmse: 2.3413 rank: 10 maxIter: 25 regParam: 0.01\n",
      "rmse: 1.7951 rank: 10 maxIter: 25 regParam: 0.1\n",
      "rmse: 2.3765 rank: 10 maxIter: 50 regParam: 0.01\n",
      "rmse: 1.8003 rank: 10 maxIter: 50 regParam: 0.1\n",
      "rmse: 2.1142 rank: 50 maxIter: 10 regParam: 0.01\n",
      "rmse: 1.7250 rank: 50 maxIter: 10 regParam: 0.1\n",
      "rmse: 2.0074 rank: 50 maxIter: 25 regParam: 0.01\n",
      "rmse: 1.7196 rank: 50 maxIter: 25 regParam: 0.1\n",
      "rmse: 1.9287 rank: 50 maxIter: 50 regParam: 0.01\n",
      "rmse: 1.7193 rank: 50 maxIter: 50 regParam: 0.1\n",
      "rmse: 1.9187 rank: 200 maxIter: 10 regParam: 0.01\n",
      "rmse: 1.7011 rank: 200 maxIter: 10 regParam: 0.1\n",
      "rmse: 1.8720 rank: 200 maxIter: 25 regParam: 0.01\n",
      "rmse: 1.7023 rank: 200 maxIter: 25 regParam: 0.1\n",
      "rmse: 1.8199 rank: 200 maxIter: 50 regParam: 0.01\n",
      "rmse: 1.7027 rank: 200 maxIter: 50 regParam: 0.1\n"
     ]
    }
   ],
   "source": [
    "for i in rank:\n",
    "        for j in maxIter:\n",
    "            for k in regParam:\n",
    "                rmse = utils.run_als(i, j, k, \"userId\", \"placeId\", \"rating\", train, test)\n",
    "                model_list.append(rmse)"
   ]
  },
  {
   "cell_type": "code",
   "execution_count": 8,
   "id": "08bc1c3e",
   "metadata": {},
   "outputs": [
    {
     "data": {
      "image/png": "[encoded data removed]",
      "text/plain": [
       "<Figure size 2160x1440 with 1 Axes>"
      ]
     },
     "metadata": {
      "needs_background": "light"
     },
     "output_type": "display_data"
    }
   ],
   "source": [
    "model_names = [\"model1\",\"model2\",\"model3\",\"model4\",\"model5\",\"model6\",\"model7\",\"model8\",\"model9\",\"model10\",\"model11\",\"model12\",\"model13\",\"model14\",\"model15\",\"model16\",\"model17\",\"model18\"]\n",
    "utils.bar_plot(model_names,model_list)"
   ]
  },
  {
   "cell_type": "code",
   "execution_count": 9,
   "id": "b6cb4226",
   "metadata": {},
   "outputs": [
    {
     "data": {
      "text/plain": [
       "1.7011"
      ]
     },
     "execution_count": 9,
     "metadata": {},
     "output_type": "execute_result"
    }
   ],
   "source": [
    "min(model_list)"
   ]
  },
  {
   "cell_type": "code",
   "execution_count": 10,
   "id": "984c4ce4",
   "metadata": {},
   "outputs": [],
   "source": [
    "als = ALS(maxIter=10,regParam=0.1,rank=200,userCol='userId',itemCol=\"placeId\",ratingCol=\"rating\",coldStartStrategy='drop',seed=5057)\n",
    "model = als.fit(train)\n",
    "predictions = model.transform(test)"
   ]
  },
  {
   "cell_type": "code",
   "execution_count": 22,
   "id": "34b56f5f",
   "metadata": {},
   "outputs": [
    {
     "data": {
      "text/html": [
       "<div>\n",
       "<style scoped>\n",
       "    .dataframe tbody tr th:only-of-type {\n",
       "        vertical-align: middle;\n",
       "    }\n",
       "\n",
       "    .dataframe tbody tr th {\n",
       "        vertical-align: top;\n",
       "    }\n",
       "\n",
       "    .dataframe thead th {\n",
       "        text-align: right;\n",
       "    }\n",
       "</style>\n",
       "<table border=\"1\" class=\"dataframe\">\n",
       "  <thead>\n",
       "    <tr style=\"text-align: right;\">\n",
       "      <th></th>\n",
       "      <th>userId</th>\n",
       "      <th>placeId</th>\n",
       "      <th>rating</th>\n",
       "      <th>prediction</th>\n",
       "    </tr>\n",
       "  </thead>\n",
       "  <tbody>\n",
       "    <tr>\n",
       "      <th>0</th>\n",
       "      <td>858</td>\n",
       "      <td>833</td>\n",
       "      <td>1</td>\n",
       "      <td>2.990832</td>\n",
       "    </tr>\n",
       "    <tr>\n",
       "      <th>1</th>\n",
       "      <td>853</td>\n",
       "      <td>833</td>\n",
       "      <td>4</td>\n",
       "      <td>3.206823</td>\n",
       "    </tr>\n",
       "    <tr>\n",
       "      <th>2</th>\n",
       "      <td>513</td>\n",
       "      <td>471</td>\n",
       "      <td>1</td>\n",
       "      <td>1.159995</td>\n",
       "    </tr>\n",
       "    <tr>\n",
       "      <th>3</th>\n",
       "      <td>974</td>\n",
       "      <td>833</td>\n",
       "      <td>3</td>\n",
       "      <td>2.896583</td>\n",
       "    </tr>\n",
       "    <tr>\n",
       "      <th>4</th>\n",
       "      <td>375</td>\n",
       "      <td>833</td>\n",
       "      <td>3</td>\n",
       "      <td>2.058661</td>\n",
       "    </tr>\n",
       "  </tbody>\n",
       "</table>\n",
       "</div>"
      ],
      "text/plain": [
       "   userId  placeId  rating  prediction\n",
       "0     858      833       1    2.990832\n",
       "1     853      833       4    3.206823\n",
       "2     513      471       1    1.159995\n",
       "3     974      833       3    2.896583\n",
       "4     375      833       3    2.058661"
      ]
     },
     "execution_count": 22,
     "metadata": {},
     "output_type": "execute_result"
    }
   ],
   "source": [
    "predictions.toPandas().head()"
   ]
  },
  {
   "cell_type": "code",
   "execution_count": 14,
   "id": "b27f0fa5",
   "metadata": {},
   "outputs": [
    {
     "name": "stderr",
     "output_type": "stream",
     "text": [
      "                                                                                \r"
     ]
    },
    {
     "data": {
      "text/html": [
       "<div>\n",
       "<style scoped>\n",
       "    .dataframe tbody tr th:only-of-type {\n",
       "        vertical-align: middle;\n",
       "    }\n",
       "\n",
       "    .dataframe tbody tr th {\n",
       "        vertical-align: top;\n",
       "    }\n",
       "\n",
       "    .dataframe thead th {\n",
       "        text-align: right;\n",
       "    }\n",
       "</style>\n",
       "<table border=\"1\" class=\"dataframe\">\n",
       "  <thead>\n",
       "    <tr style=\"text-align: right;\">\n",
       "      <th></th>\n",
       "      <th>userId</th>\n",
       "      <th>recommendations</th>\n",
       "    </tr>\n",
       "  </thead>\n",
       "  <tbody>\n",
       "    <tr>\n",
       "      <th>0</th>\n",
       "      <td>3</td>\n",
       "      <td>[(3, 2.9219956398010254), (72, 0.6678868532180...</td>\n",
       "    </tr>\n",
       "    <tr>\n",
       "      <th>1</th>\n",
       "      <td>5</td>\n",
       "      <td>[(5, 4.9450883865356445), (687, 0.868939220905...</td>\n",
       "    </tr>\n",
       "    <tr>\n",
       "      <th>2</th>\n",
       "      <td>6</td>\n",
       "      <td>[(6, 3.934997081756592), (45, 0.71310335397720...</td>\n",
       "    </tr>\n",
       "    <tr>\n",
       "      <th>3</th>\n",
       "      <td>12</td>\n",
       "      <td>[(12, 0.8998624086380005), (707, 0.57337629795...</td>\n",
       "    </tr>\n",
       "    <tr>\n",
       "      <th>4</th>\n",
       "      <td>15</td>\n",
       "      <td>[(15, 3.934997797012329), (106, 0.869665980339...</td>\n",
       "    </tr>\n",
       "    <tr>\n",
       "      <th>...</th>\n",
       "      <td>...</td>\n",
       "      <td>...</td>\n",
       "    </tr>\n",
       "    <tr>\n",
       "      <th>958</th>\n",
       "      <td>994</td>\n",
       "      <td>[(376, 4.649227619171143), (520, 4.49223041534...</td>\n",
       "    </tr>\n",
       "    <tr>\n",
       "      <th>959</th>\n",
       "      <td>996</td>\n",
       "      <td>[(190, 4.91621732711792), (355, 4.590357780456...</td>\n",
       "    </tr>\n",
       "    <tr>\n",
       "      <th>960</th>\n",
       "      <td>997</td>\n",
       "      <td>[(191, 4.862517356872559), (338, 4.61960315704...</td>\n",
       "    </tr>\n",
       "    <tr>\n",
       "      <th>961</th>\n",
       "      <td>999</td>\n",
       "      <td>[(274, 4.826777935028076), (381, 4.68227863311...</td>\n",
       "    </tr>\n",
       "    <tr>\n",
       "      <th>962</th>\n",
       "      <td>1000</td>\n",
       "      <td>[(612, 4.664440155029297), (788, 4.60620260238...</td>\n",
       "    </tr>\n",
       "  </tbody>\n",
       "</table>\n",
       "<p>963 rows × 2 columns</p>\n",
       "</div>"
      ],
      "text/plain": [
       "     userId                                    recommendations\n",
       "0         3  [(3, 2.9219956398010254), (72, 0.6678868532180...\n",
       "1         5  [(5, 4.9450883865356445), (687, 0.868939220905...\n",
       "2         6  [(6, 3.934997081756592), (45, 0.71310335397720...\n",
       "3        12  [(12, 0.8998624086380005), (707, 0.57337629795...\n",
       "4        15  [(15, 3.934997797012329), (106, 0.869665980339...\n",
       "..      ...                                                ...\n",
       "958     994  [(376, 4.649227619171143), (520, 4.49223041534...\n",
       "959     996  [(190, 4.91621732711792), (355, 4.590357780456...\n",
       "960     997  [(191, 4.862517356872559), (338, 4.61960315704...\n",
       "961     999  [(274, 4.826777935028076), (381, 4.68227863311...\n",
       "962    1000  [(612, 4.664440155029297), (788, 4.60620260238...\n",
       "\n",
       "[963 rows x 2 columns]"
      ]
     },
     "execution_count": 14,
     "metadata": {},
     "output_type": "execute_result"
    }
   ],
   "source": [
    "user_recs_all = model.recommendForAllUsers(3)\n",
    "user_recs_all.toPandas()"
   ]
  },
  {
   "cell_type": "code",
   "execution_count": 23,
   "id": "9da7ada6",
   "metadata": {},
   "outputs": [
    {
     "name": "stderr",
     "output_type": "stream",
     "text": [
      "/Library/Frameworks/Python.framework/Versions/3.9/lib/python3.9/site-packages/pyspark/sql/context.py:125: FutureWarning: Deprecated in 3.0.0. Use SparkSession.builder.getOrCreate() instead.\n",
      "  warnings.warn(\n",
      "                                                                                \r"
     ]
    },
    {
     "data": {
      "text/html": [
       "<div>\n",
       "<style scoped>\n",
       "    .dataframe tbody tr th:only-of-type {\n",
       "        vertical-align: middle;\n",
       "    }\n",
       "\n",
       "    .dataframe tbody tr th {\n",
       "        vertical-align: top;\n",
       "    }\n",
       "\n",
       "    .dataframe thead th {\n",
       "        text-align: right;\n",
       "    }\n",
       "</style>\n",
       "<table border=\"1\" class=\"dataframe\">\n",
       "  <thead>\n",
       "    <tr style=\"text-align: right;\">\n",
       "      <th></th>\n",
       "      <th>placeId</th>\n",
       "      <th>recommendations</th>\n",
       "    </tr>\n",
       "  </thead>\n",
       "  <tbody>\n",
       "    <tr>\n",
       "      <th>0</th>\n",
       "      <td>3</td>\n",
       "      <td>[(3, 2.9219956398010254), (865, 0.621379613876...</td>\n",
       "    </tr>\n",
       "    <tr>\n",
       "      <th>1</th>\n",
       "      <td>6</td>\n",
       "      <td>[(6, 3.934997081756592), (827, 1.0854552984237...</td>\n",
       "    </tr>\n",
       "    <tr>\n",
       "      <th>2</th>\n",
       "      <td>12</td>\n",
       "      <td>[(12, 0.8998624086380005), (930, 0.57285553216...</td>\n",
       "    </tr>\n",
       "    <tr>\n",
       "      <th>3</th>\n",
       "      <td>16</td>\n",
       "      <td>[(16, 1.9074910879135132), (124, 0.48994109034...</td>\n",
       "    </tr>\n",
       "    <tr>\n",
       "      <th>4</th>\n",
       "      <td>20</td>\n",
       "      <td>[(20, 3.934997797012329), (935, 0.587286055088...</td>\n",
       "    </tr>\n",
       "    <tr>\n",
       "      <th>...</th>\n",
       "      <td>...</td>\n",
       "      <td>...</td>\n",
       "    </tr>\n",
       "    <tr>\n",
       "      <th>969</th>\n",
       "      <td>990</td>\n",
       "      <td>[(316, 4.712751388549805), (463, 4.50983095169...</td>\n",
       "    </tr>\n",
       "    <tr>\n",
       "      <th>970</th>\n",
       "      <td>991</td>\n",
       "      <td>[(319, 4.701658725738525), (348, 4.69582462310...</td>\n",
       "    </tr>\n",
       "    <tr>\n",
       "      <th>971</th>\n",
       "      <td>996</td>\n",
       "      <td>[(503, 4.477505207061768), (759, 4.44898080825...</td>\n",
       "    </tr>\n",
       "    <tr>\n",
       "      <th>972</th>\n",
       "      <td>997</td>\n",
       "      <td>[(470, 4.796064376831055), (539, 4.59673929214...</td>\n",
       "    </tr>\n",
       "    <tr>\n",
       "      <th>973</th>\n",
       "      <td>999</td>\n",
       "      <td>[(517, 4.636637210845947), (395, 4.55775213241...</td>\n",
       "    </tr>\n",
       "  </tbody>\n",
       "</table>\n",
       "<p>974 rows × 2 columns</p>\n",
       "</div>"
      ],
      "text/plain": [
       "     placeId                                    recommendations\n",
       "0          3  [(3, 2.9219956398010254), (865, 0.621379613876...\n",
       "1          6  [(6, 3.934997081756592), (827, 1.0854552984237...\n",
       "2         12  [(12, 0.8998624086380005), (930, 0.57285553216...\n",
       "3         16  [(16, 1.9074910879135132), (124, 0.48994109034...\n",
       "4         20  [(20, 3.934997797012329), (935, 0.587286055088...\n",
       "..       ...                                                ...\n",
       "969      990  [(316, 4.712751388549805), (463, 4.50983095169...\n",
       "970      991  [(319, 4.701658725738525), (348, 4.69582462310...\n",
       "971      996  [(503, 4.477505207061768), (759, 4.44898080825...\n",
       "972      997  [(470, 4.796064376831055), (539, 4.59673929214...\n",
       "973      999  [(517, 4.636637210845947), (395, 4.55775213241...\n",
       "\n",
       "[974 rows x 2 columns]"
      ]
     },
     "execution_count": 23,
     "metadata": {},
     "output_type": "execute_result"
    }
   ],
   "source": [
    "place_recs_all = model.recommendForAllItems(10)\n",
    "\n",
    "place_recs_all.toPandas()"
   ]
  },
  {
   "cell_type": "code",
   "execution_count": null,
   "id": "11338edd",
   "metadata": {},
   "outputs": [],
   "source": [
    "from pyspark.sql.types import IntegerType\n",
    "users_list = [148, 463, 483]\n",
    "users_df = spark.createDataFrame(users_list, IntegerType()).toDF('userId')\n",
    "users_df.take(3)"
   ]
  },
  {
   "cell_type": "code",
   "execution_count": 18,
   "id": "b23b5123",
   "metadata": {},
   "outputs": [
    {
     "data": {
      "text/html": [
       "<div>\n",
       "<style scoped>\n",
       "    .dataframe tbody tr th:only-of-type {\n",
       "        vertical-align: middle;\n",
       "    }\n",
       "\n",
       "    .dataframe tbody tr th {\n",
       "        vertical-align: top;\n",
       "    }\n",
       "\n",
       "    .dataframe thead th {\n",
       "        text-align: right;\n",
       "    }\n",
       "</style>\n",
       "<table border=\"1\" class=\"dataframe\">\n",
       "  <thead>\n",
       "    <tr style=\"text-align: right;\">\n",
       "      <th></th>\n",
       "      <th>userId</th>\n",
       "      <th>recommendations</th>\n",
       "    </tr>\n",
       "  </thead>\n",
       "  <tbody>\n",
       "    <tr>\n",
       "      <th>0</th>\n",
       "      <td>148</td>\n",
       "      <td>[(820, 3.8982346057891846), (859, 2.1053407192...</td>\n",
       "    </tr>\n",
       "    <tr>\n",
       "      <th>1</th>\n",
       "      <td>463</td>\n",
       "      <td>[(990, 4.509830951690674), (150, 3.90671586990...</td>\n",
       "    </tr>\n",
       "    <tr>\n",
       "      <th>2</th>\n",
       "      <td>483</td>\n",
       "      <td>[(988, 4.687611103057861), (1000, 4.6634249687...</td>\n",
       "    </tr>\n",
       "  </tbody>\n",
       "</table>\n",
       "</div>"
      ],
      "text/plain": [
       "   userId                                    recommendations\n",
       "0     148  [(820, 3.8982346057891846), (859, 2.1053407192...\n",
       "1     463  [(990, 4.509830951690674), (150, 3.90671586990...\n",
       "2     483  [(988, 4.687611103057861), (1000, 4.6634249687..."
      ]
     },
     "execution_count": 18,
     "metadata": {},
     "output_type": "execute_result"
    }
   ],
   "source": [
    "user_recs = model.recommendForUserSubset(users_df, 5)\n",
    "user_recs.toPandas()"
   ]
  },
  {
   "cell_type": "code",
   "execution_count": 29,
   "id": "b02ca47b",
   "metadata": {},
   "outputs": [
    {
     "data": {
      "text/plain": [
       "[Row(placeId=678), Row(placeId=978), Row(placeId=768)]"
      ]
     },
     "execution_count": 29,
     "metadata": {},
     "output_type": "execute_result"
    }
   ],
   "source": [
    "place_list = [678, 978, 768]\n",
    "place_df = spark.createDataFrame(place_list, IntegerType()).toDF('placeId')\n",
    "place_df.take(3)"
   ]
  },
  {
   "cell_type": "code",
   "execution_count": 30,
   "id": "e40813b9",
   "metadata": {},
   "outputs": [
    {
     "name": "stdout",
     "output_type": "stream",
     "text": [
      "+-------+--------------------+\n",
      "|placeId|     recommendations|\n",
      "+-------+--------------------+\n",
      "|    768|[{567, 4.4793534}...|\n",
      "|    678|[{896, 4.3841267}...|\n",
      "|    978|[{515, 4.4758015}...|\n",
      "+-------+--------------------+\n",
      "\n"
     ]
    }
   ],
   "source": [
    "place_recs = model.recommendForItemSubset(place_df, 10)\n",
    "place_recs.show()"
   ]
  },
  {
   "cell_type": "code",
   "execution_count": 31,
   "id": "a78b6ef7",
   "metadata": {},
   "outputs": [
    {
     "data": {
      "text/plain": [
       "[Row(recommendations=[Row(placeId=988, rating=4.687611103057861), Row(placeId=1000, rating=4.663424968719482), Row(placeId=620, rating=4.51392936706543), Row(placeId=542, rating=4.3748979568481445), Row(placeId=533, rating=4.009260654449463)])]"
      ]
     },
     "execution_count": 31,
     "metadata": {},
     "output_type": "execute_result"
    }
   ],
   "source": [
    "user_place_list = user_recs.filter(user_recs.userId == 483).select('recommendations')\n",
    "\n",
    "user_place_list.collect()"
   ]
  },
  {
   "cell_type": "code",
   "execution_count": 32,
   "id": "ee9dd6f4",
   "metadata": {},
   "outputs": [],
   "source": [
    "from pyspark.sql.types import IntegerType\n",
    "def get_recs_for_user(userId, num_recs):\n",
    "    users_df = spark.createDataFrame([userId], IntegerType()).toDF('userId')\n",
    "    user_recs = model.recommendForUserSubset(users_df, num_recs)\n",
    "    place_list = user_recs.collect()[0].recommendations\n",
    "    place_df = spark.createDataFrame(place_list)\n",
    "    return place_df"
   ]
  },
  {
   "cell_type": "code",
   "execution_count": 34,
   "id": "3c47a1cd",
   "metadata": {},
   "outputs": [
    {
     "name": "stdout",
     "output_type": "stream",
     "text": [
      "+-------+------------------+\n",
      "|placeId|            rating|\n",
      "+-------+------------------+\n",
      "|    381| 4.511360168457031|\n",
      "|    658| 4.496878147125244|\n",
      "|    625| 4.424794673919678|\n",
      "|    453|4.3997416496276855|\n",
      "|    144| 4.249352931976318|\n",
      "|    992| 4.249178886413574|\n",
      "|    867|4.2058916091918945|\n",
      "|    501| 4.149968147277832|\n",
      "|    643| 4.116657733917236|\n",
      "|    813|  4.10534143447876|\n",
      "+-------+------------------+\n",
      "\n"
     ]
    }
   ],
   "source": [
    "df = get_recs_for_user(867,10)\n",
    "df.show()"
   ]
  },
  {
   "cell_type": "code",
   "execution_count": null,
   "id": "41e97eef",
   "metadata": {},
   "outputs": [],
   "source": []
  }
 ],
 "metadata": {
  "kernelspec": {
   "display_name": "Python 3 (ipykernel)",
   "language": "python",
   "name": "python3"
  },
  "language_info": {
   "codemirror_mode": {
    "name": "ipython",
    "version": 3
   },
   "file_extension": ".py",
   "mimetype": "text/x-python",
   "name": "python",
   "nbconvert_exporter": "python",
   "pygments_lexer": "ipython3",
   "version": "3.9.9"
  }
 },
 "nbformat": 4,
 "nbformat_minor": 5
}
